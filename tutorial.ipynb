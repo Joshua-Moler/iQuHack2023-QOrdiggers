{
 "cells": [
  {
   "cell_type": "code",
   "execution_count": 36,
   "id": "e6f8a034-0c5b-4632-ad0d-cec7017fc62b",
   "metadata": {},
   "outputs": [],
   "source": [
    "import matplotlib.pyplot as plt\n",
    "import cirq_ionq\n",
    "import random\n",
    "import cirq\n"
   ]
  },
  {
   "cell_type": "code",
   "execution_count": 37,
   "id": "b9f2063f-3662-4448-99db-fb72ce116d28",
   "metadata": {},
   "outputs": [],
   "source": [
    "def diffuse(circuit, n, qubits):\n",
    "    for _ in range(n):\n",
    "        circuit.append([cirq.H(qubit) for qubit in qubits])\n",
    "        circuit.append([cirq.X(qubit) for qubit in qubits])\n",
    "        circuit.append(cirq.Z(qubits[-1]).controlled_by(*qubits[0:-1]))\n",
    "        circuit.append([cirq.X(qubit) for qubit in qubits])\n",
    "        circuit.append([cirq.H(qubit) for qubit in qubits])"
   ]
  },
  {
   "cell_type": "code",
   "execution_count": 38,
   "id": "628c27d1-3437-427f-b4f9-18100eaeec86",
   "metadata": {},
   "outputs": [],
   "source": [
    "def build_monster_grover(exponents, nDiffuse, measure):\n",
    "    qubits = [cirq.NamedQubit(str(ii)) for ii in range(4)]\n",
    "    circuit = cirq.Circuit()\n",
    "\n",
    "    # apply H-gates \n",
    "    circuit.append([cirq.H(qubit) for qubit in qubits])\n",
    "\n",
    "    circuit.append(cirq.CZPowGate(exponent = exponents[0])(qubits[0], qubits[1]))\n",
    "    circuit.append(cirq.CZPowGate(exponent = exponents[1])(qubits[0], qubits[2]))\n",
    "    circuit.append(cirq.CZPowGate(exponent = exponents[2])(qubits[0], qubits[3]))\n",
    "    circuit.append(cirq.CZPowGate(exponent = exponents[3])(qubits[1], qubits[2]))\n",
    "    circuit.append(cirq.CZPowGate(exponent = exponents[4])(qubits[1], qubits[3]))\n",
    "    circuit.append(cirq.CZPowGate(exponent = exponents[5])(qubits[2], qubits[3]))\n",
    "\n",
    "    circuit.append([cirq.X(qubit) for qubit in qubits])\n",
    "    \n",
    "    circuit.append(cirq.CZPowGate(exponent = exponents[6])(qubits[0], qubits[1]))\n",
    "    circuit.append(cirq.CZPowGate(exponent = exponents[7])(qubits[0], qubits[2]))\n",
    "    circuit.append(cirq.CZPowGate(exponent = exponents[8])(qubits[0], qubits[3]))\n",
    "    circuit.append(cirq.CZPowGate(exponent = exponents[9])(qubits[1], qubits[2]))\n",
    "    circuit.append(cirq.CZPowGate(exponent = exponents[10])(qubits[1], qubits[3]))\n",
    "    circuit.append(cirq.CZPowGate(exponent = exponents[11])(qubits[2], qubits[3]))\n",
    "    \n",
    "    diffuse(circuit, nDiffuse, qubits)\n",
    "    \n",
    "    if measure:\n",
    "        circuit.append(cirq.measure(*qubits, key = 'r1'))\n",
    "    \n",
    "    return circuit"
   ]
  },
  {
   "cell_type": "code",
   "execution_count": 55,
   "id": "5748ec4b-affe-4e0a-bb9d-60b00f4313c6",
   "metadata": {},
   "outputs": [
    {
     "name": "stdout",
     "output_type": "stream",
     "text": [
      "[17.9  4.7  2.8  4.7  0.1  3.  14.9  0.7  4.6  3.3  7.9 17.1  1.7 12.8\n",
      "  3.6  0.2]\n"
     ]
    },
    {
     "data": {
      "image/png": "[encoded data removed]",
      "text/plain": [
       "<Figure size 432x288 with 1 Axes>"
      ]
     },
     "metadata": {
      "needs_background": "light"
     },
     "output_type": "display_data"
    }
   ],
   "source": [
    "numExponents = 12\n",
    "numRepititions = 1000\n",
    "exponents = [random.random() for _ in range(numExponents)]\n",
    "nDiffuse = 1\n",
    "\n",
    "# initial circuit\n",
    "circuit = build_monster_grover(exponents, nDiffuse, measure=True)\n",
    "s = cirq.Simulator()\n",
    "samples = s.run(circuit, repetitions = numRepititions)\n",
    "cirq.plot_state_histogram(samples, plt.subplot())\n",
    "\n",
    "counts = cirq.get_state_histogram(samples)\n",
    "percentages = counts/numRepititions * 100\n",
    "print(percentages)\n",
    "# list(cirq.get_state_histogram(samples))\n",
    "prev_prob_sum = percentages[1]+percentages[7]+percentages[5]+percentages[11]"
   ]
  },
  {
   "cell_type": "code",
   "execution_count": 56,
   "id": "46d16c49-1c37-47ea-abe5-7658d37b76f8",
   "metadata": {},
   "outputs": [],
   "source": [
    "# account for the number \n",
    "threshold = 60 # accept percentage\n",
    "numIts = 2000\n",
    "random_sample = [0,1,2,3]\n",
    "accuracy = []\n",
    "# print(sum(percentages[0:3]))"
   ]
  },
  {
   "cell_type": "code",
   "execution_count": 57,
   "id": "bd64e7a8-d7d6-4f10-8668-78214515878b",
   "metadata": {},
   "outputs": [],
   "source": [
    "# update exponents by a small step randomly\n",
    "updates = [random.random()/10 - 0.05 for _ in range(len(exponents))]\n",
    "\n",
    "circuit = build_monster_grover([exponents[ii] + updates[ii] \n",
    "                                    for ii in range(numExponents)], nDiffuse, measure=True)\n",
    "s = cirq.Simulator()\n",
    "samples = s.run(circuit, repetitions = numRepititions)\n",
    "\n",
    "# get the numbers in the range of the samples\n",
    "list(cirq.get_state_histogram(samples))\n",
    "\n",
    "prob_sum = percentages[1]+percentages[7]+percentages[5]+percentages[11]"
   ]
  },
  {
   "cell_type": "code",
   "execution_count": 59,
   "id": "5cfdf2de-067d-4f0e-8994-f538f29a76d8",
   "metadata": {},
   "outputs": [
    {
     "name": "stdout",
     "output_type": "stream",
     "text": [
      "DONE\n"
     ]
    }
   ],
   "source": [
    "for i in range(numIts):\n",
    "    \n",
    "    if(prob_sum >= prev_prob_sum):\n",
    "        # accept the change and run again\n",
    "        print(prob_sum)\n",
    "        accuracy.append((i, prob_sum))\n",
    "        prev_prob_sum = prob_sum\n",
    "        exponents = [exponents[ii] + updates[ii] for ii in range(numExponents)]   \n",
    "    #else:\n",
    "        # do not accept the change and run again\n",
    "        \n",
    "    # update exponents by a small step randomly\n",
    "    updates = [random.random()/10 - 0.05 for _ in range(len(exponents))]\n",
    "\n",
    "    circuit = build_monster_grover([exponents[ii] + updates[ii] \n",
    "                                    for ii in range(numExponents)], nDiffuse, measure=True)\n",
    "    s = cirq.Simulator()\n",
    "    samples = s.run(circuit, repetitions = numRepititions)\n",
    "    \n",
    "    # get the numbers in the range of the samples\n",
    "    counts = cirq.get_state_histogram(samples)\n",
    "    percentages = counts/numRepititions * 100\n",
    "    \n",
    "    prob_sum = percentages[1]+percentages[7]+percentages[5]+percentages[11]\n",
    "    \n",
    "print(\"DONE\")"
   ]
  },
  {
   "cell_type": "code",
   "execution_count": 60,
   "id": "235c8306-c0cd-4e34-a541-65706bb6fc19",
   "metadata": {},
   "outputs": [
    {
     "ename": "NameError",
     "evalue": "name 'iterations' is not defined",
     "output_type": "error",
     "traceback": [
      "\u001b[0;31m---------------------------------------------------------------------------\u001b[0m",
      "\u001b[0;31mNameError\u001b[0m                                 Traceback (most recent call last)",
      "Cell \u001b[0;32mIn[60], line 1\u001b[0m\n\u001b[0;32m----> 1\u001b[0m plt\u001b[38;5;241m.\u001b[39mplot(\u001b[43miterations\u001b[49m, accuracy)\n",
      "\u001b[0;31mNameError\u001b[0m: name 'iterations' is not defined"
     ]
    }
   ],
   "source": [
    "plt.plot(iterations, accuracy)"
   ]
  },
  {
   "cell_type": "code",
   "execution_count": 49,
   "id": "f79b860b-5fda-4811-8bd2-9de2c5a56a24",
   "metadata": {},
   "outputs": [
    {
     "name": "stdout",
     "output_type": "stream",
     "text": [
      "[1.5465084985155186, 0.010646375574077944, 0.4712997447551397, -0.09422060157888755, 0.3709877962236159, -0.14042879648322282, 0.5144343054771163, -0.13070367699934443, 0.4726505106516852, -0.24364628417776676, 1.1272303799398788, 0.648864043309553]\n"
     ]
    }
   ],
   "source": [
    "print(exponents)"
   ]
  },
  {
   "cell_type": "code",
   "execution_count": 50,
   "id": "3c668c10-dec1-438e-884c-1d0075c7dcf9",
   "metadata": {},
   "outputs": [
    {
     "data": {
      "text/plain": [
       "<AxesSubplot: title={'center': 'Result State Histogram'}, xlabel='qubit state', ylabel='result count'>"
      ]
     },
     "execution_count": 50,
     "metadata": {},
     "output_type": "execute_result"
    },
    {
     "data": {
      "image/png": "[encoded data removed]",
      "text/plain": [
       "<Figure size 432x288 with 1 Axes>"
      ]
     },
     "metadata": {
      "needs_background": "light"
     },
     "output_type": "display_data"
    }
   ],
   "source": [
    "circuit = build_monster_grover(exponents, nDiffuse, measure=True)\n",
    "s = cirq.Simulator()\n",
    "samples = s.run(circuit, repetitions = numRepititions)\n",
    "\n",
    "# get the numbers in the range of the samples\n",
    "list(cirq.get_state_histogram(samples))\n",
    "cirq.plot_state_histogram(samples, plt.subplot())"
   ]
  }
 ],
 "metadata": {
  "kernelspec": {
   "display_name": "Python 3 [Default]",
   "language": "python",
   "name": "python3"
  },
  "language_info": {
   "codemirror_mode": {
    "name": "ipython",
    "version": 3
   },
   "file_extension": ".py",
   "mimetype": "text/x-python",
   "name": "python",
   "nbconvert_exporter": "python",
   "pygments_lexer": "ipython3",
   "version": "3.9.10"
  }
 },
 "nbformat": 4,
 "nbformat_minor": 5
}
