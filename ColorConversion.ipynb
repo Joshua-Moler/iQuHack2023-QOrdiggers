{
 "cells": [
  {
   "cell_type": "code",
   "execution_count": 1,
   "metadata": {},
   "outputs": [],
   "source": [
    "!./perlin-master/target/debug/perlin #Generates perlin image!! Look at read me for specific variatin"
   ]
  },
  {
   "cell_type": "code",
   "execution_count": 2,
   "metadata": {},
   "outputs": [],
   "source": [
    "!./perlin-master/target/debug/perlin -o out2\n",
    "!mv out2.png ./images"
   ]
  },
  {
   "cell_type": "code",
   "execution_count": 15,
   "metadata": {},
   "outputs": [],
   "source": [
    "from math import floor "
   ]
  },
  {
   "cell_type": "code",
   "execution_count": 17,
   "metadata": {},
   "outputs": [],
   "source": [
    "#Stroke combination \n",
    "def image_combination(image1,image2):\n",
    "    background = Image.open(image1)\n",
    "    overlay = Image.open(image2)\n",
    "\n",
    "    background = background.convert(\"RGBA\")\n",
    "    overlay = overlay.convert(\"RGBA\")\n",
    "\n",
    "    new_img = Image.blend(background, overlay, 0.5)\n",
    "    new_img.save(\"./images/painting.png\",\"PNG\")"
   ]
  },
  {
   "cell_type": "code",
   "execution_count": 78,
   "metadata": {},
   "outputs": [],
   "source": [
    "class MoodImage:\n",
    "    def __init__(self,state_num,perlinOrManual):\n",
    "        self.perlinOrManual = perlinOrManual\n",
    "        image = self.moodProcess(state_num) #TODO \n",
    "        self.painting = image\n",
    "\n",
    "    def getPasscode(self):\n",
    "        self.passcode = input('Type in your password for sudo command')\n",
    "    \n",
    "    def moodProcess(self,state_num):\n",
    "        self.processState(state_num)\n",
    "        if self.perlinOrManual == 1:\n",
    "            self.perlinSimulation(\"TODO\")\n",
    "        else:\n",
    "            self.manualStrokes(\"TODO\")\n",
    "\n",
    "    def processState(self,state_num):\n",
    "        if self.perlinOrManual == 1:\n",
    "            numMoods = 3\n",
    "        else:\n",
    "            numMoods = 8\n",
    "        self.mood_num = floor(state_num/numMoods) #Mood <- In Perlin Evolution, limited to 3 colors \n",
    "        self.stroke_num = state_num % numMoods\n",
    "\n",
    "    \n",
    "    #This is the perlin simluator <- procedurally generated perlin creator \n",
    "    def perlinSimulation(self,temp):\n",
    "        print(self.mood_num)\n",
    "        print(self.stroke_num)\n",
    "        self.stroke_num += 1\n",
    "        with open('sample.txt', 'w') as f:\n",
    "            f.write(str(self.mood_num) + '\\n')    \n",
    "            f.write(str(self.stroke_num) + '\\n')  \n",
    "\n",
    "\n",
    "    #This is the manual strokes come hackathon participants\n",
    "    def manualStrokes(self,temp):\n",
    "        print(temp)\n",
    "\n",
    "    def addStroke(self,state_num):\n",
    "        self.processState(state_num)\n"
   ]
  },
  {
   "cell_type": "code",
   "execution_count": 79,
   "metadata": {},
   "outputs": [
    {
     "name": "stdout",
     "output_type": "stream",
     "text": [
      "0\n",
      "1\n",
      "./perlin-master/target/debug/perlin: line 1: 2: command not found\n"
     ]
    }
   ],
   "source": [
    "QuantumPainter = MoodImage(1,1)"
   ]
  },
  {
   "cell_type": "code",
   "execution_count": null,
   "metadata": {},
   "outputs": [],
   "source": []
  },
  {
   "cell_type": "code",
   "execution_count": 37,
   "metadata": {},
   "outputs": [],
   "source": [
    "passcode = input('Type in your password for sudo command')"
   ]
  },
  {
   "cell_type": "code",
   "execution_count": 51,
   "metadata": {},
   "outputs": [
    {
     "name": "stdout",
     "output_type": "stream",
     "text": [
      "Password:^C\n"
     ]
    }
   ],
   "source": [
    "!echo Nomadic@1991 | sudo -S ./perlin-master/target/debug/perlin -o out2"
   ]
  },
  {
   "cell_type": "code",
   "execution_count": 53,
   "metadata": {},
   "outputs": [],
   "source": [
    "!./perlin-master/target/debug/perlin"
   ]
  },
  {
   "cell_type": "code",
   "execution_count": 62,
   "metadata": {},
   "outputs": [],
   "source": [
    "!./perlin-master/target/debug/perlin -c 0 -f 1 -o testPerlin "
   ]
  },
  {
   "cell_type": "code",
   "execution_count": 70,
   "metadata": {},
   "outputs": [
    {
     "name": "stdout",
     "output_type": "stream",
     "text": [
      "^C\n"
     ]
    }
   ],
   "source": [
    "!./perlin-master/target/debug/perlin -c 1 -f 1 -o testPerlin"
   ]
  },
  {
   "cell_type": "code",
   "execution_count": 81,
   "metadata": {},
   "outputs": [],
   "source": [
    "d = [1,2]\n",
    "with open('sample.txt', 'w') as f:\n",
    "    f.write(str(d[0]) + '\\n')    \n",
    "    f.write(str(d[1]) + '\\n')  \n",
    " "
   ]
  }
 ],
 "metadata": {
  "kernelspec": {
   "display_name": "Python 3",
   "language": "python",
   "name": "python3"
  },
  "language_info": {
   "codemirror_mode": {
    "name": "ipython",
    "version": 3
   },
   "file_extension": ".py",
   "mimetype": "text/x-python",
   "name": "python",
   "nbconvert_exporter": "python",
   "pygments_lexer": "ipython3",
   "version": "3.11.1"
  },
  "orig_nbformat": 4,
  "vscode": {
   "interpreter": {
    "hash": "aee8b7b246df8f9039afb4144a1f6fd8d2ca17a180786b69acc140d282b71a49"
   }
  }
 },
 "nbformat": 4,
 "nbformat_minor": 2
}
