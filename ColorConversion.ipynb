{
 "cells": [
  {
   "cell_type": "code",
   "execution_count": 1,
   "metadata": {},
   "outputs": [],
   "source": [
    "!./perlin-master/target/debug/perlin #Generates perlin image!! Look at read me for specific variatin"
   ]
  },
  {
   "cell_type": "code",
   "execution_count": 2,
   "metadata": {},
   "outputs": [],
   "source": [
    "!./perlin-master/target/debug/perlin -o out2\n",
    "!mv out2.png ./images"
   ]
  },
  {
   "cell_type": "code",
   "execution_count": 121,
   "metadata": {},
   "outputs": [],
   "source": [
    "from math import floor \n",
    "from PIL import Image"
   ]
  },
  {
   "cell_type": "code",
   "execution_count": 88,
   "metadata": {},
   "outputs": [],
   "source": [
    "#Stroke combination \n",
    "def image_combination(image1,image2):\n",
    "    background = Image.open(image1)\n",
    "    overlay = Image.open(image2)\n",
    "\n",
    "    background = background.convert(\"RGBA\")\n",
    "    overlay = overlay.convert(\"RGBA\")\n",
    "\n",
    "    new_img = Image.blend(background, overlay, 0.5)\n",
    "    new_img.save(\"./images/painting.png\",\"PNG\")"
   ]
  },
  {
   "cell_type": "code",
   "execution_count": 132,
   "metadata": {},
   "outputs": [],
   "source": [
    "class MoodImage:\n",
    "    def __init__(self,state_num,perlinOrManual):\n",
    "        self.mood_mapping = {0:\"joy\",1:\"trust\",2:\"fear\",3:\"suprise\",4:\"sadnesss\",5:\"disgust\",6:\"anger\",7:\"anticipation\"} \n",
    "        self.perlinOrManual = perlinOrManual\n",
    "        self.painting = self.moodProcess(state_num) #TODO \n",
    "\n",
    "    def getPasscode(self):\n",
    "        self.passcode = input('Type in your password for sudo command')\n",
    "    \n",
    "    def moodProcess(self,state_num):\n",
    "        self.processState(state_num)\n",
    "        if self.perlinOrManual == 1: #1 == perlin artist, 0 == manual artist\n",
    "            return self.perlinSimulation()\n",
    "        else:\n",
    "            return self.manualStrokes()\n",
    "        \n",
    "\n",
    "    def processState(self,state_num):\n",
    "        if self.perlinOrManual == 1:\n",
    "            numMoods = 3\n",
    "        else:\n",
    "            numMoods = 8\n",
    "        self.mood_num = floor(state_num/numMoods) #Mood <- In Perlin Evolution, limited to 3 colors \n",
    "        self.stroke_num = state_num % numMoods\n",
    "\n",
    "    \n",
    "    #This is the perlin simluator <- procedurally generated perlin creator \n",
    "    def perlinSimulation(self):\n",
    "        print(self.mood_num)\n",
    "        print(self.stroke_num)\n",
    "        self.stroke_num += 1\n",
    "        with open('perlinParams.txt', 'w') as f:\n",
    "            #f.write(str(self.mood_num) + '\\n')    \n",
    "            f.write(str(self.stroke_num) + '\\n')  \n",
    "        ! echo perlinParams.txt | ./perlin-master/target/debug/perlin -o ./images/perlin_strokes/currentStroke\n",
    "        ! rm perlinParams.txt\n",
    "        return \"./images/perlin_strokes/currentStroke.png\"\n",
    "\n",
    "\n",
    "    #This is the manual strokes come hackathon participants\n",
    "    def manualStrokes(self):\n",
    "        print(self.mood_mapping[self.mood_num])\n",
    "        file_name = \"./images/org_strokes/\" + str(self.mood_mapping[self.mood_num]) + str(self.stroke_num) + \".png\"\n",
    "        return file_name\n",
    "\n",
    "    def addStroke(self,state_num):\n",
    "        self.processState(state_num)\n",
    "        if self.perlinOrManual == 1:\n",
    "            self.painting = image_combination(self.painting,self.perlinSimulation)\n",
    "        else:\n",
    "            self.painting = image_combination(self.painting,self.manualStrokes)\n",
    "    def outputPainting(self):\n",
    "        print(self.painting)\n",
    "        img = Image.open(self.painting)\n",
    "        img.save(img)\n"
   ]
  },
  {
   "cell_type": "code",
   "execution_count": 133,
   "metadata": {},
   "outputs": [
    {
     "name": "stdout",
     "output_type": "stream",
     "text": [
      "joy\n",
      "./images/org_strokes/joy1.PNG\n"
     ]
    },
    {
     "ename": "ValueError",
     "evalue": "unknown file extension: ",
     "output_type": "error",
     "traceback": [
      "\u001b[0;31m---------------------------------------------------------------------------\u001b[0m",
      "\u001b[0;31mKeyError\u001b[0m                                  Traceback (most recent call last)",
      "File \u001b[0;32m/Library/Frameworks/Python.framework/Versions/3.11/lib/python3.11/site-packages/PIL/Image.py:2408\u001b[0m, in \u001b[0;36mImage.save\u001b[0;34m(self, fp, format, **params)\u001b[0m\n\u001b[1;32m   2407\u001b[0m \u001b[39mtry\u001b[39;00m:\n\u001b[0;32m-> 2408\u001b[0m     \u001b[39mformat\u001b[39m \u001b[39m=\u001b[39m EXTENSION[ext]\n\u001b[1;32m   2409\u001b[0m \u001b[39mexcept\u001b[39;00m \u001b[39mKeyError\u001b[39;00m \u001b[39mas\u001b[39;00m e:\n",
      "\u001b[0;31mKeyError\u001b[0m: ''",
      "\nThe above exception was the direct cause of the following exception:\n",
      "\u001b[0;31mValueError\u001b[0m                                Traceback (most recent call last)",
      "Cell \u001b[0;32mIn[133], line 2\u001b[0m\n\u001b[1;32m      1\u001b[0m QuantumArtist \u001b[39m=\u001b[39m MoodImage(\u001b[39m1\u001b[39m,\u001b[39m0\u001b[39m)\n\u001b[0;32m----> 2\u001b[0m QuantumArtist\u001b[39m.\u001b[39;49moutputPainting()\n",
      "Cell \u001b[0;32mIn[132], line 55\u001b[0m, in \u001b[0;36mMoodImage.outputPainting\u001b[0;34m(self)\u001b[0m\n\u001b[1;32m     53\u001b[0m \u001b[39mprint\u001b[39m(\u001b[39mself\u001b[39m\u001b[39m.\u001b[39mpainting)\n\u001b[1;32m     54\u001b[0m img \u001b[39m=\u001b[39m Image\u001b[39m.\u001b[39mopen(\u001b[39mself\u001b[39m\u001b[39m.\u001b[39mpainting)\n\u001b[0;32m---> 55\u001b[0m img\u001b[39m.\u001b[39;49msave(img)\n",
      "File \u001b[0;32m/Library/Frameworks/Python.framework/Versions/3.11/lib/python3.11/site-packages/PIL/Image.py:2411\u001b[0m, in \u001b[0;36mImage.save\u001b[0;34m(self, fp, format, **params)\u001b[0m\n\u001b[1;32m   2409\u001b[0m     \u001b[39mexcept\u001b[39;00m \u001b[39mKeyError\u001b[39;00m \u001b[39mas\u001b[39;00m e:\n\u001b[1;32m   2410\u001b[0m         msg \u001b[39m=\u001b[39m \u001b[39mf\u001b[39m\u001b[39m\"\u001b[39m\u001b[39munknown file extension: \u001b[39m\u001b[39m{\u001b[39;00mext\u001b[39m}\u001b[39;00m\u001b[39m\"\u001b[39m\n\u001b[0;32m-> 2411\u001b[0m         \u001b[39mraise\u001b[39;00m \u001b[39mValueError\u001b[39;00m(msg) \u001b[39mfrom\u001b[39;00m \u001b[39me\u001b[39;00m\n\u001b[1;32m   2413\u001b[0m \u001b[39mif\u001b[39;00m \u001b[39mformat\u001b[39m\u001b[39m.\u001b[39mupper() \u001b[39mnot\u001b[39;00m \u001b[39min\u001b[39;00m SAVE:\n\u001b[1;32m   2414\u001b[0m     init()\n",
      "\u001b[0;31mValueError\u001b[0m: unknown file extension: "
     ]
    }
   ],
   "source": [
    "QuantumArtist = MoodImage(1,0)\n",
    "QuantumArtist.outputPainting()"
   ]
  },
  {
   "cell_type": "code",
   "execution_count": null,
   "metadata": {},
   "outputs": [],
   "source": []
  }
 ],
 "metadata": {
  "kernelspec": {
   "display_name": "Python 3",
   "language": "python",
   "name": "python3"
  },
  "language_info": {
   "codemirror_mode": {
    "name": "ipython",
    "version": 3
   },
   "file_extension": ".py",
   "mimetype": "text/x-python",
   "name": "python",
   "nbconvert_exporter": "python",
   "pygments_lexer": "ipython3",
   "version": "3.11.1"
  },
  "orig_nbformat": 4,
  "vscode": {
   "interpreter": {
    "hash": "aee8b7b246df8f9039afb4144a1f6fd8d2ca17a180786b69acc140d282b71a49"
   }
  }
 },
 "nbformat": 4,
 "nbformat_minor": 2
}
