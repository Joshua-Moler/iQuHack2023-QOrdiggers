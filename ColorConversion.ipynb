{
 "cells": [
  {
   "cell_type": "code",
   "execution_count": 1,
   "metadata": {},
   "outputs": [],
   "source": [
    "!./perlin-master/target/debug/perlin #Generates perlin image!! Look at read me for specific variatin"
   ]
  },
  {
   "cell_type": "code",
   "execution_count": 121,
   "metadata": {},
   "outputs": [],
   "source": [
    "from math import floor \n",
    "from PIL import Image"
   ]
  },
  {
   "cell_type": "code",
   "execution_count": 238,
   "metadata": {},
   "outputs": [],
   "source": [
    "#Stroke combination \n",
    "def image_combination(image1,image2):\n",
    "    print(image1)\n",
    "    print(image2)\n",
    "    background = Image.open(image1)\n",
    "    overlay = Image.open(image2)\n",
    "\n",
    "    background = background.convert(\"RGBA\")\n",
    "    overlay = overlay.convert(\"RGBA\")\n",
    "\n",
    "    new_img = Image.blend(background, overlay, 0.4)\n",
    "\n",
    "    new_img.save(\"./images/painting.png\",\"PNG\")\n",
    "    return \"./images/painting.png\""
   ]
  },
  {
   "cell_type": "code",
   "execution_count": 235,
   "metadata": {},
   "outputs": [],
   "source": [
    "class MoodImage:\n",
    "    def __init__(self,state_num,perlinOrManual):\n",
    "        self.mood_mapping = {0:\"joy\",1:\"trust\",2:\"fear\",3:\"surprise\",4:\"sadnesss\",5:\"disgust\",6:\"anger\",7:\"anticipation\"} \n",
    "        self.perlinOrManual = perlinOrManual\n",
    "        self.painting = self.moodProcess(state_num) \n",
    "\n",
    "    def getPasscode(self):\n",
    "        self.passcode = input('Type in your password for sudo command')\n",
    "    \n",
    "    def moodProcess(self,state_num):\n",
    "        self.processState(state_num)\n",
    "        if self.perlinOrManual == 1: #1 == perlin artist, 0 == manual artist\n",
    "            return self.perlinSimulation()\n",
    "        else:\n",
    "            return self.manualStrokes()\n",
    "        \n",
    "\n",
    "    def processState(self,state_num):\n",
    "        if self.perlinOrManual == 1:\n",
    "            #numMoods = 3\n",
    "            numMoods = 1\n",
    "        else:\n",
    "            numMoods = 4\n",
    "        self.mood_num = floor(state_num/numMoods) #Mood <- In Perlin Evolution, limited to 3 colors \n",
    "        if self.perlinOrManual == 1:\n",
    "            self.stroke_num = state_num\n",
    "        else:\n",
    "            self.stroke_num = state_num % numMoods +1\n",
    "\n",
    "    \n",
    "    #This is the perlin simluator <- procedurally generated perlin creator \n",
    "    def perlinSimulation(self):\n",
    "        self.stroke_num += 1\n",
    "        with open('perlinParams.txt', 'w') as f:\n",
    "            f.write(str(self.stroke_num) + '\\n')  \n",
    "        ! echo perlinParams.txt | ./perlin-master/target/debug/perlin -o ./images/perlin_strokes/currentStroke\n",
    "        ! rm perlinParams.txt\n",
    "        return \"./images/perlin_strokes/currentStroke.png\"\n",
    "\n",
    "\n",
    "    #This is the manual strokes come hackathon participants\n",
    "    def manualStrokes(self):\n",
    "        file_name = \"./images/org_strokes/\" + str(self.mood_mapping[self.mood_num]) + str(self.stroke_num) + \".png\"\n",
    "        return file_name\n",
    "\n",
    "    def addStroke(self,state_num):\n",
    "        self.processState(state_num)\n",
    "        #self.stroke_num = state_num + 1\n",
    "\n",
    "        if self.perlinOrManual == 1:\n",
    "            self.painting = image_combination(self.painting,self.perlinSimulation())\n",
    "        else:\n",
    "            self.painting = image_combination(self.painting,self.manualStrokes())\n",
    "    def outputPainting(self):\n",
    "        img = Image.open(self.painting)\n",
    "        img = img.convert('RGB')\n",
    "        img.save(\"painting.jpg\")\n"
   ]
  },
  {
   "cell_type": "code",
   "execution_count": 240,
   "metadata": {},
   "outputs": [
    {
     "name": "stdout",
     "output_type": "stream",
     "text": [
      "./images/org_strokes/joy1.png\n",
      "./images/org_strokes/joy1.png\n",
      "./images/painting.png\n",
      "./images/org_strokes/joy2.png\n",
      "./images/painting.png\n",
      "./images/org_strokes/joy3.png\n",
      "./images/painting.png\n",
      "./images/org_strokes/joy4.png\n",
      "./images/painting.png\n",
      "./images/org_strokes/trust1.png\n",
      "./images/painting.png\n",
      "./images/org_strokes/trust2.png\n",
      "./images/painting.png\n",
      "./images/org_strokes/trust3.png\n",
      "./images/painting.png\n",
      "./images/org_strokes/trust4.png\n",
      "./images/painting.png\n",
      "./images/org_strokes/fear1.png\n",
      "./images/painting.png\n",
      "./images/org_strokes/fear2.png\n",
      "./images/painting.png\n",
      "./images/org_strokes/fear3.png\n",
      "./images/painting.png\n",
      "./images/org_strokes/fear4.png\n",
      "./images/painting.png\n",
      "./images/org_strokes/surprise1.png\n",
      "./images/painting.png\n",
      "./images/org_strokes/surprise2.png\n",
      "./images/painting.png\n",
      "./images/org_strokes/surprise3.png\n",
      "./images/painting.png\n",
      "./images/org_strokes/surprise4.png\n",
      "./images/painting.png\n",
      "./images/org_strokes/sadnesss1.png\n"
     ]
    },
    {
     "ename": "FileNotFoundError",
     "evalue": "[Errno 2] No such file or directory: './images/org_strokes/sadnesss1.png'",
     "output_type": "error",
     "traceback": [
      "\u001b[0;31m---------------------------------------------------------------------------\u001b[0m",
      "\u001b[0;31mFileNotFoundError\u001b[0m                         Traceback (most recent call last)",
      "Cell \u001b[0;32mIn[240], line 3\u001b[0m\n\u001b[1;32m      1\u001b[0m QuantumArtist \u001b[39m=\u001b[39m MoodImage(\u001b[39m0\u001b[39m,\u001b[39m0\u001b[39m)\n\u001b[1;32m      2\u001b[0m \u001b[39mfor\u001b[39;00m i \u001b[39min\u001b[39;00m \u001b[39mrange\u001b[39m(\u001b[39m32\u001b[39m):\n\u001b[0;32m----> 3\u001b[0m     QuantumArtist\u001b[39m.\u001b[39;49maddStroke(i)\n",
      "Cell \u001b[0;32mIn[235], line 53\u001b[0m, in \u001b[0;36mMoodImage.addStroke\u001b[0;34m(self, state_num)\u001b[0m\n\u001b[1;32m     51\u001b[0m     \u001b[39mself\u001b[39m\u001b[39m.\u001b[39mpainting \u001b[39m=\u001b[39m image_combination(\u001b[39mself\u001b[39m\u001b[39m.\u001b[39mpainting,\u001b[39mself\u001b[39m\u001b[39m.\u001b[39mperlinSimulation())\n\u001b[1;32m     52\u001b[0m \u001b[39melse\u001b[39;00m:\n\u001b[0;32m---> 53\u001b[0m     \u001b[39mself\u001b[39m\u001b[39m.\u001b[39mpainting \u001b[39m=\u001b[39m image_combination(\u001b[39mself\u001b[39;49m\u001b[39m.\u001b[39;49mpainting,\u001b[39mself\u001b[39;49m\u001b[39m.\u001b[39;49mmanualStrokes())\n",
      "Cell \u001b[0;32mIn[238], line 6\u001b[0m, in \u001b[0;36mimage_combination\u001b[0;34m(image1, image2)\u001b[0m\n\u001b[1;32m      4\u001b[0m \u001b[39mprint\u001b[39m(image2)\n\u001b[1;32m      5\u001b[0m background \u001b[39m=\u001b[39m Image\u001b[39m.\u001b[39mopen(image1)\n\u001b[0;32m----> 6\u001b[0m overlay \u001b[39m=\u001b[39m Image\u001b[39m.\u001b[39;49mopen(image2)\n\u001b[1;32m      8\u001b[0m background \u001b[39m=\u001b[39m background\u001b[39m.\u001b[39mconvert(\u001b[39m\"\u001b[39m\u001b[39mRGBA\u001b[39m\u001b[39m\"\u001b[39m)\n\u001b[1;32m      9\u001b[0m overlay \u001b[39m=\u001b[39m overlay\u001b[39m.\u001b[39mconvert(\u001b[39m\"\u001b[39m\u001b[39mRGBA\u001b[39m\u001b[39m\"\u001b[39m)\n",
      "File \u001b[0;32m/Library/Frameworks/Python.framework/Versions/3.11/lib/python3.11/site-packages/PIL/Image.py:3227\u001b[0m, in \u001b[0;36mopen\u001b[0;34m(fp, mode, formats)\u001b[0m\n\u001b[1;32m   3224\u001b[0m     filename \u001b[39m=\u001b[39m fp\n\u001b[1;32m   3226\u001b[0m \u001b[39mif\u001b[39;00m filename:\n\u001b[0;32m-> 3227\u001b[0m     fp \u001b[39m=\u001b[39m builtins\u001b[39m.\u001b[39mopen(filename, \u001b[39m\"\u001b[39m\u001b[39mrb\u001b[39m\u001b[39m\"\u001b[39m)\n\u001b[1;32m   3228\u001b[0m     exclusive_fp \u001b[39m=\u001b[39m \u001b[39mTrue\u001b[39;00m\n\u001b[1;32m   3230\u001b[0m \u001b[39mtry\u001b[39;00m:\n",
      "\u001b[0;31mFileNotFoundError\u001b[0m: [Errno 2] No such file or directory: './images/org_strokes/sadnesss1.png'"
     ]
    }
   ],
   "source": [
    "QuantumArtist = MoodImage(0,0)\n",
    "for i in range(32):\n",
    "    QuantumArtist.addStroke(i)"
   ]
  },
  {
   "cell_type": "code",
   "execution_count": 203,
   "metadata": {},
   "outputs": [
    {
     "data": {
      "text/plain": [
       "3"
      ]
     },
     "execution_count": 203,
     "metadata": {},
     "output_type": "execute_result"
    }
   ],
   "source": [
    "QuantumArtist.mood_num"
   ]
  },
  {
   "cell_type": "code",
   "execution_count": null,
   "metadata": {},
   "outputs": [],
   "source": []
  }
 ],
 "metadata": {
  "kernelspec": {
   "display_name": "Python 3",
   "language": "python",
   "name": "python3"
  },
  "language_info": {
   "codemirror_mode": {
    "name": "ipython",
    "version": 3
   },
   "file_extension": ".py",
   "mimetype": "text/x-python",
   "name": "python",
   "nbconvert_exporter": "python",
   "pygments_lexer": "ipython3",
   "version": "3.11.1"
  },
  "orig_nbformat": 4,
  "vscode": {
   "interpreter": {
    "hash": "aee8b7b246df8f9039afb4144a1f6fd8d2ca17a180786b69acc140d282b71a49"
   }
  }
 },
 "nbformat": 4,
 "nbformat_minor": 2
}
