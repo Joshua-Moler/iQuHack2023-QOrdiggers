{
 "cells": [
  {
   "cell_type": "code",
   "execution_count": 1,
   "metadata": {},
   "outputs": [],
   "source": [
    "!./perlin-master/target/debug/perlin #Generates perlin image!! Look at read me for specific variatin"
   ]
  },
  {
   "cell_type": "code",
   "execution_count": 2,
   "metadata": {},
   "outputs": [],
   "source": [
    "!./perlin-master/target/debug/perlin -o out2\n",
    "!mv out2.png ./images"
   ]
  },
  {
   "cell_type": "code",
   "execution_count": 15,
   "metadata": {},
   "outputs": [],
   "source": [
    "from math import floor "
   ]
  },
  {
   "cell_type": "code",
   "execution_count": 17,
   "metadata": {},
   "outputs": [],
   "source": [
    "#Stroke combination \n",
    "def image_combination(image1,image2):\n",
    "    background = Image.open(image1)\n",
    "    overlay = Image.open(image2)\n",
    "\n",
    "    background = background.convert(\"RGBA\")\n",
    "    overlay = overlay.convert(\"RGBA\")\n",
    "\n",
    "    new_img = Image.blend(background, overlay, 0.5)\n",
    "    new_img.save(\"./images/painting.png\",\"PNG\")"
   ]
  },
  {
   "cell_type": "code",
   "execution_count": 27,
   "metadata": {},
   "outputs": [],
   "source": [
    "class MoodImage:\n",
    "    def __init__(self,state_num,perlinOrManual):\n",
    "        self.perlinOrManual = perlinOrManual\n",
    "        image = self.moodProcess(state_num) #TODO \n",
    "        self.painting = image\n",
    "    \n",
    "    def moodProcess(self,state_num):\n",
    "        if self.perlinOrManual == 1:\n",
    "            self.perlinSimulation(\"TODO\")\n",
    "        else:\n",
    "            self.manualStrokes(self)\n",
    "\n",
    "    def processState(self,state_num):\n",
    "        if self.perlinOrManual == 1:\n",
    "            numMoods = 3\n",
    "        else:\n",
    "            numMoods = 8\n",
    "        self.mood_num = floor(state_num/numMoods) #Mood <- In Perlin Evolution, limited to 3 colors \n",
    "        self.state_num = state_num % numMoods\n",
    "\n",
    "    \n",
    "    def perlinSimulation(self,temp):\n",
    "        print(temp)\n",
    "\n",
    "    def manualStrokes(self,temp):\n",
    "        print(temp)\n",
    "\n",
    "    def addStroke(self,state_num):\n",
    "        self.processState(state_num)\n"
   ]
  },
  {
   "cell_type": "code",
   "execution_count": 28,
   "metadata": {},
   "outputs": [
    {
     "ename": "TypeError",
     "evalue": "MoodImage.perlinSimulation() takes 1 positional argument but 2 were given",
     "output_type": "error",
     "traceback": [
      "\u001b[0;31m---------------------------------------------------------------------------\u001b[0m",
      "\u001b[0;31mTypeError\u001b[0m                                 Traceback (most recent call last)",
      "Cell \u001b[0;32mIn[28], line 1\u001b[0m\n\u001b[0;32m----> 1\u001b[0m QuantumPainter \u001b[39m=\u001b[39m MoodImage(\u001b[39m1\u001b[39;49m,\u001b[39m1\u001b[39;49m)\n",
      "Cell \u001b[0;32mIn[27], line 4\u001b[0m, in \u001b[0;36mMoodImage.__init__\u001b[0;34m(self, state_num, perlinOrManual)\u001b[0m\n\u001b[1;32m      2\u001b[0m \u001b[39mdef\u001b[39;00m \u001b[39m__init__\u001b[39m(\u001b[39mself\u001b[39m,state_num,perlinOrManual):\n\u001b[1;32m      3\u001b[0m     \u001b[39mself\u001b[39m\u001b[39m.\u001b[39mperlinOrManual \u001b[39m=\u001b[39m perlinOrManual\n\u001b[0;32m----> 4\u001b[0m     image \u001b[39m=\u001b[39m \u001b[39mself\u001b[39;49m\u001b[39m.\u001b[39;49mmoodProcess(state_num) \u001b[39m#TODO \u001b[39;00m\n\u001b[1;32m      5\u001b[0m     \u001b[39mself\u001b[39m\u001b[39m.\u001b[39mpainting \u001b[39m=\u001b[39m image\n",
      "Cell \u001b[0;32mIn[27], line 9\u001b[0m, in \u001b[0;36mMoodImage.moodProcess\u001b[0;34m(self, state_num)\u001b[0m\n\u001b[1;32m      7\u001b[0m \u001b[39mdef\u001b[39;00m \u001b[39mmoodProcess\u001b[39m(\u001b[39mself\u001b[39m,state_num):\n\u001b[1;32m      8\u001b[0m     \u001b[39mif\u001b[39;00m \u001b[39mself\u001b[39m\u001b[39m.\u001b[39mperlinOrManual \u001b[39m==\u001b[39m \u001b[39m1\u001b[39m:\n\u001b[0;32m----> 9\u001b[0m         \u001b[39mself\u001b[39;49m\u001b[39m.\u001b[39;49mperlinSimulation(\u001b[39mself\u001b[39;49m)\n\u001b[1;32m     10\u001b[0m     \u001b[39melse\u001b[39;00m:\n\u001b[1;32m     11\u001b[0m         \u001b[39mself\u001b[39m\u001b[39m.\u001b[39mmanualStrokes(\u001b[39mself\u001b[39m)\n",
      "\u001b[0;31mTypeError\u001b[0m: MoodImage.perlinSimulation() takes 1 positional argument but 2 were given"
     ]
    }
   ],
   "source": [
    "QuantumPainter = MoodImage(1,1)"
   ]
  },
  {
   "cell_type": "code",
   "execution_count": null,
   "metadata": {},
   "outputs": [],
   "source": []
  },
  {
   "cell_type": "code",
   "execution_count": null,
   "metadata": {},
   "outputs": [],
   "source": []
  }
 ],
 "metadata": {
  "kernelspec": {
   "display_name": "Python 3",
   "language": "python",
   "name": "python3"
  },
  "language_info": {
   "codemirror_mode": {
    "name": "ipython",
    "version": 3
   },
   "file_extension": ".py",
   "mimetype": "text/x-python",
   "name": "python",
   "nbconvert_exporter": "python",
   "pygments_lexer": "ipython3",
   "version": "3.11.1"
  },
  "orig_nbformat": 4,
  "vscode": {
   "interpreter": {
    "hash": "aee8b7b246df8f9039afb4144a1f6fd8d2ca17a180786b69acc140d282b71a49"
   }
  }
 },
 "nbformat": 4,
 "nbformat_minor": 2
}
