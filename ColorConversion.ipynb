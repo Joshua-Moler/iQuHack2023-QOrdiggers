{
 "cells": [
  {
   "cell_type": "code",
   "execution_count": 5,
   "metadata": {},
   "outputs": [],
   "source": [
    "from math import floor \n",
    "from PIL import Image"
   ]
  },
  {
   "cell_type": "code",
   "execution_count": 16,
   "metadata": {},
   "outputs": [],
   "source": [
    "#Stroke combination \n",
    "def image_combination(image1,image2):\n",
    "    background = Image.open(image1)\n",
    "    overlay = Image.open(image2)\n",
    "\n",
    "    background = background.convert(\"RGBA\")\n",
    "    overlay = overlay.convert(\"RGBA\")\n",
    "\n",
    "    new_img = Image.blend(background, overlay, 0.4)\n",
    "\n",
    "    new_img.save(\"./painting.png\",\"PNG\")\n",
    "    return \"./painting.png\""
   ]
  },
  {
   "cell_type": "code",
   "execution_count": 15,
   "metadata": {},
   "outputs": [],
   "source": [
    "class MoodImage:\n",
    "    def __init__(self,state_num,perlinOrManual):\n",
    "        self.mood_mapping = {0:\"joy\",1:\"trust\",2:\"fear\",3:\"surprise\",4:\"sadnesss\",5:\"disgust\",6:\"anger\",7:\"anticipation\"} \n",
    "        self.perlinOrManual = perlinOrManual\n",
    "        self.painting = self.moodProcess(state_num) \n",
    "        img = Image.open(self.painting)\n",
    "        img.save(\"./images/painting.png\",\"PNG\")\n",
    "\n",
    "    def getPasscode(self):\n",
    "        self.passcode = input('Type in your password for sudo command')\n",
    "    \n",
    "    def moodProcess(self,state_num):\n",
    "        self.processState(state_num)\n",
    "        if self.perlinOrManual == 1: #1 == perlin artist, 0 == manual artist\n",
    "            return self.perlinSimulation()\n",
    "        else:\n",
    "            return self.manualStrokes()\n",
    "        \n",
    "\n",
    "    def processState(self,state_num):\n",
    "        if self.perlinOrManual == 1:\n",
    "            numMoods = 3\n",
    "        else:\n",
    "            numMoods = 4\n",
    "        self.mood_num = floor(state_num/numMoods) #Mood <- In Perlin Evolution, limited to 3 colors \n",
    "        if self.perlinOrManual == 1:\n",
    "            self.stroke_num = state_num + 1\n",
    "        else:\n",
    "            self.stroke_num = state_num % numMoods +1\n",
    "\n",
    "    \n",
    "    #This is the perlin simluator <- procedurally generated perlin creator \n",
    "    def perlinSimulation(self):\n",
    "        #self.stroke_num += 1\n",
    "        with open('perlinColor.txt', 'w') as f:\n",
    "            f.write(str(self.mood_num) + '\\n')  \n",
    "        with open('perlinStroke.txt', 'w') as f:\n",
    "            f.write(str(self.stroke_num) + '\\n') \n",
    "        ! bash perlinRun.sh\n",
    "        ! rm perlinColor.txt\n",
    "        ! rm perlinStroke.txt\n",
    "        return \"./images/perlin_strokes/currentStroke.png\"\n",
    "\n",
    "\n",
    "    #This is the manual strokes come hackathon participants\n",
    "    def manualStrokes(self):\n",
    "        file_name = \"./images/org_strokes/\" + str(self.mood_mapping[self.mood_num]) + str(self.stroke_num) + \".png\"\n",
    "        return file_name\n",
    "\n",
    "    def addStroke(self,state_num):\n",
    "        self.processState(state_num)\n",
    "        if self.perlinOrManual == 1:\n",
    "            self.painting = image_combination(self.painting,self.perlinSimulation())\n",
    "        else:\n",
    "            self.painting = image_combination(self.painting,self.manualStrokes())\n",
    "    def outputPainting(self):\n",
    "        img = Image.open(self.painting)\n",
    "        img = img.convert('RGB')\n",
    "        img.save(\"painting.jpg\")\n"
   ]
  },
  {
   "cell_type": "code",
   "execution_count": 18,
   "metadata": {},
   "outputs": [
    {
     "name": "stdout",
     "output_type": "stream",
     "text": [
      "0\n",
      "1\n",
      "0\n",
      "1\n",
      "./images/perlin_strokes/currentStroke.png\n",
      "./images/perlin_strokes/currentStroke.png\n",
      "0\n",
      "2\n",
      "./painting.png\n",
      "./images/perlin_strokes/currentStroke.png\n",
      "0\n",
      "3\n",
      "./painting.png\n",
      "./images/perlin_strokes/currentStroke.png\n",
      "1\n",
      "4\n",
      "./painting.png\n",
      "./images/perlin_strokes/currentStroke.png\n",
      "1\n",
      "5\n",
      "./painting.png\n",
      "./images/perlin_strokes/currentStroke.png\n",
      "1\n",
      "6\n",
      "./painting.png\n",
      "./images/perlin_strokes/currentStroke.png\n",
      "2\n",
      "7\n",
      "^C\n",
      "./painting.png\n",
      "./images/perlin_strokes/currentStroke.png\n",
      "2\n",
      "8\n"
     ]
    }
   ],
   "source": [
    "QuantumArtist = MoodImage(0,1)\n",
    "for i in range(32):\n",
    "    QuantumArtist.addStroke(i)"
   ]
  },
  {
   "cell_type": "code",
   "execution_count": null,
   "metadata": {},
   "outputs": [],
   "source": [
    "QuantumArtist = MoodImage(0,0)\n",
    "for i in range(32):\n",
    "    QuantumArtist.addStroke(i)"
   ]
  },
  {
   "cell_type": "code",
   "execution_count": null,
   "metadata": {},
   "outputs": [],
   "source": [
    "def main(): \n",
    "    Qubits = input(\"How many qubits would you like to use?\")\n",
    "    PerlinOrManual = input(\"Would you like human or computer generated artwork? (Note human artwork has a max of 5 qubits)\")\n"
   ]
  }
 ],
 "metadata": {
  "kernelspec": {
   "display_name": "Python 3",
   "language": "python",
   "name": "python3"
  },
  "language_info": {
   "codemirror_mode": {
    "name": "ipython",
    "version": 3
   },
   "file_extension": ".py",
   "mimetype": "text/x-python",
   "name": "python",
   "nbconvert_exporter": "python",
   "pygments_lexer": "ipython3",
   "version": "3.11.1"
  },
  "orig_nbformat": 4,
  "vscode": {
   "interpreter": {
    "hash": "aee8b7b246df8f9039afb4144a1f6fd8d2ca17a180786b69acc140d282b71a49"
   }
  }
 },
 "nbformat": 4,
 "nbformat_minor": 2
}
