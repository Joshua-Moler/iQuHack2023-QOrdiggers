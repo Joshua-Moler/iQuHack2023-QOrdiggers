{
 "cells": [
  {
   "cell_type": "code",
   "execution_count": 51,
   "id": "e6f8a034-0c5b-4632-ad0d-cec7017fc62b",
   "metadata": {},
   "outputs": [],
   "source": [
    "import matplotlib.pyplot as plt\n",
    "import cirq_ionq\n",
    "import random\n",
    "\n",
    "def diffuse(circuit, n):\n",
    "    for _ in range(n):\n",
    "        circuit.append([cirq.H(qubit) for qubit in qubits])\n",
    "        circuit.append([cirq.X(qubit) for qubit in qubits])\n",
    "        circuit.append(cirq.Z(qubits[-1]).controlled_by(*qubits[0:-1]))\n",
    "        circuit.append([cirq.X(qubit) for qubit in qubits])\n",
    "        circuit.append([cirq.H(qubit) for qubit in qubits])\n",
    "        \n",
    "        "
   ]
  },
  {
   "cell_type": "code",
   "execution_count": 52,
   "id": "66708e24-393f-4789-a8f2-7d0c9e91df39",
   "metadata": {},
   "outputs": [
    {
     "name": "stdout",
     "output_type": "stream",
     "text": [
      "              ┌──────────┐   ┌────────┐\n",
      "0: ───H───@─────────@─────────@───────────H───────X─────────────────────@───X───H───H───X───@───X───H───H───X───@───X───H───M('r1')───\n",
      "          │         │         │                                         │                   │                   │           │\n",
      "1: ───H───@────Z^0.2┼─────────┼────@──────────────@───────H─────X───────@───X───H───H───X───@───X───H───H───X───@───X───H───M─────────\n",
      "                    │         │    │              │                     │                   │                   │           │\n",
      "2: ───H─────────────@^0.8─────┼────@^0────────────┼───────@─────H───X───@───X───H───H───X───@───X───H───H───X───@───X───H───M─────────\n",
      "                              │                   │       │             │                   │                   │           │\n",
      "3: ───H───────────────────────@^0.2───────Z^0.2───@^0.4───@^0───H───X───Z───X───H───H───X───Z───X───H───H───X───Z───X───H───M─────────\n",
      "              └──────────┘   └────────┘\n"
     ]
    },
    {
     "data": {
      "text/plain": [
       "<AxesSubplot: title={'center': 'Result State Histogram'}, xlabel='qubit state', ylabel='result count'>"
      ]
     },
     "execution_count": 52,
     "metadata": {},
     "output_type": "execute_result"
    },
    {
     "data": {
      "image/png": "[encoded data removed]",
      "text/plain": [
       "<Figure size 432x288 with 1 Axes>"
      ]
     },
     "metadata": {
      "needs_background": "light"
     },
     "output_type": "display_data"
    }
   ],
   "source": [
    "import cirq\n",
    "\n",
    "qubits = [cirq.NamedQubit(str(ii)) for ii in range(4)]\n",
    "circuit = cirq.Circuit()\n",
    "\n",
    "circuit.append([cirq.H(qubit) for qubit in qubits])\n",
    "\n",
    "# circuit.append(cirq.ZPowGate(exponent = 0.4)(qubits[-1]).controlled_by(*qubits[0:-1]))\n",
    "# circuit.append(cirq.X(qubits[-1]))\n",
    "# circuit.append(cirq.Z(qubits[-1]).controlled_by(*qubits[0:-1]))\n",
    "# circuit.append(cirq.X(qubits[-1]))\n",
    "# circuit.append(cirq.X(qubits[-1]))\n",
    "# circuit.append(cirq.X(qubits[-2]))\n",
    "# circuit.append(cirq.Z(qubits[-1]).controlled_by(*qubits[0:-1]))\n",
    "# circuit.append(cirq.X(qubits[-2]))\n",
    "# circuit.append(cirq.X(qubits[-1]))\n",
    "# circuit.append(cirq.X(qubits[-1]))\n",
    "# circuit.append(cirq.X(qubits[-2]))\n",
    "# circuit.append(cirq.X(qubits[-3]))\n",
    "# circuit.append(cirq.ZPowGate(exponent = 1/2)(qubits[-1]).controlled_by(*qubits[0:-1]))\n",
    "# circuit.append(cirq.X(qubits[-3]))\n",
    "# circuit.append(cirq.X(qubits[-2]))\n",
    "# circuit.append(cirq.X(qubits[-1]))\n",
    "\n",
    "circuit.append(cirq.CZPowGate(exponent = 1)(qubits[0], qubits[1]))\n",
    "circuit.append(cirq.ZPowGate(exponent = 0.2)(qubits[1]))\n",
    "\n",
    "circuit.append(cirq.CZPowGate(exponent = 0.8)(qubits[0], qubits[2]))\n",
    "circuit.append(cirq.CZPowGate(exponent = 0.2)(qubits[0], qubits[3]))\n",
    "circuit.append(cirq.ZPowGate(exponent = 0.2)(qubits[3]))\n",
    "circuit.append(cirq.CZPowGate(exponent = 0)(qubits[1], qubits[2]))\n",
    "circuit.append(cirq.CZPowGate(exponent = 0.4)(qubits[1], qubits[3]))\n",
    "circuit.append(cirq.CZPowGate(exponent = 0)(qubits[2], qubits[3]))\n",
    "\n",
    "\n",
    "\n",
    "\n",
    "\n",
    "\n",
    "\n",
    "\n",
    "\n",
    "\n",
    "diffuse(circuit, 3)\n",
    "\n",
    "circuit.append(cirq.measure(*qubits, key = 'r1'))\n",
    "\n",
    "print(circuit)\n",
    "s = cirq.Simulator()\n",
    "samples = s.run(circuit, repetitions = 1000)\n",
    "#samples[0]\n",
    "cirq.plot_state_histogram(samples, plt.subplot())"
   ]
  },
  {
   "cell_type": "code",
   "execution_count": 53,
   "id": "4557a0fe-e7f4-4c37-a293-acd71118323f",
   "metadata": {},
   "outputs": [
    {
     "name": "stdout",
     "output_type": "stream",
     "text": [
      " 0 : 0b0000\n",
      " 1 : 0b0001\n",
      " 2 : 0b0010\n",
      " 3 : 0b0011\n",
      " 4 : 0b0100\n",
      " 5 : 0b0101\n",
      " 6 : 0b0110\n",
      " 7 : 0b0111\n",
      " 8 : 0b1000\n",
      " 9 : 0b1001\n",
      "10 : 0b1010\n",
      "11 : 0b1011\n",
      "12 : 0b1100\n",
      "13 : 0b1101\n",
      "14 : 0b1110\n",
      "15 : 0b1111\n"
     ]
    }
   ],
   "source": [
    "for ii in range(16):\n",
    "    print(f'{format(ii, \"2\")} : {format(ii, \"#06b\")}')"
   ]
  },
  {
   "cell_type": "code",
   "execution_count": 54,
   "id": "75fb3185-c131-4e7c-b40f-69013ad8c435",
   "metadata": {},
   "outputs": [
    {
     "name": "stderr",
     "output_type": "stream",
     "text": [
      "/tmp/ipykernel_16378/978515543.py:1: DeprecationWarning: decompose_to_device was used but is deprecated.\n",
      "It will be removed in cirq v0.16.\n",
      "Use cirq.optimize_for_target_gateset(circuit, gateset=cirq_ionq.IonQTargetGateset(atol)) instead.\n",
      "\n",
      "  circuit = cirq_ionq.decompose_to_device(circuit)\n"
     ]
    }
   ],
   "source": [
    "circuit = cirq_ionq.decompose_to_device(circuit)"
   ]
  },
  {
   "cell_type": "code",
   "execution_count": 55,
   "id": "3618a7b5-184b-490d-b301-7d8afecf6aed",
   "metadata": {},
   "outputs": [
    {
     "name": "stdout",
     "output_type": "stream",
     "text": [
      "<generator object AbstractCircuit.all_operations.<locals>.<genexpr> at 0x7fbae1468f20>\n"
     ]
    }
   ],
   "source": [
    "print(circuit)"
   ]
  },
  {
   "cell_type": "code",
   "execution_count": 56,
   "id": "a0d0552b-3001-484a-bf91-7664d2a3857c",
   "metadata": {},
   "outputs": [
    {
     "ename": "AttributeError",
     "evalue": "'generator' object has no attribute 'unfreeze'",
     "output_type": "error",
     "traceback": [
      "\u001b[0;31m---------------------------------------------------------------------------\u001b[0m",
      "\u001b[0;31mAttributeError\u001b[0m                            Traceback (most recent call last)",
      "Cell \u001b[0;32mIn[56], line 1\u001b[0m\n\u001b[0;32m----> 1\u001b[0m qc \u001b[38;5;241m=\u001b[39m \u001b[43mcirq\u001b[49m\u001b[38;5;241;43m.\u001b[39;49m\u001b[43moptimize_for_target_gateset\u001b[49m\u001b[43m(\u001b[49m\u001b[43mcircuit\u001b[49m\u001b[43m,\u001b[49m\u001b[43m \u001b[49m\u001b[43mgateset\u001b[49m\u001b[38;5;241;43m=\u001b[39;49m\u001b[43mcirq_ionq\u001b[49m\u001b[38;5;241;43m.\u001b[39;49m\u001b[43mionq_gateset\u001b[49m\u001b[38;5;241;43m.\u001b[39;49m\u001b[43mIonQTargetGateset\u001b[49m\u001b[43m(\u001b[49m\u001b[43m)\u001b[49m\u001b[43m)\u001b[49m\n",
      "File \u001b[0;32m/opt/.qbraid/environments/qbraid_000000/pyenv/lib/python3.9/site-packages/cirq/transformers/transformer_api.py:380\u001b[0m, in \u001b[0;36mtransformer.<locals>.func_with_logging\u001b[0;34m(circuit, **kwargs)\u001b[0m\n\u001b[1;32m    378\u001b[0m \u001b[38;5;129m@functools\u001b[39m\u001b[38;5;241m.\u001b[39mwraps(func)\n\u001b[1;32m    379\u001b[0m \u001b[38;5;28;01mdef\u001b[39;00m \u001b[38;5;21mfunc_with_logging\u001b[39m(circuit: \u001b[38;5;124m'\u001b[39m\u001b[38;5;124mcirq.AbstractCircuit\u001b[39m\u001b[38;5;124m'\u001b[39m, \u001b[38;5;241m*\u001b[39m\u001b[38;5;241m*\u001b[39mkwargs) \u001b[38;5;241m-\u001b[39m\u001b[38;5;241m>\u001b[39m \u001b[38;5;124m'\u001b[39m\u001b[38;5;124mcirq.AbstractCircuit\u001b[39m\u001b[38;5;124m'\u001b[39m:\n\u001b[0;32m--> 380\u001b[0m     \u001b[38;5;28;01mreturn\u001b[39;00m \u001b[43m_transform_and_log\u001b[49m\u001b[43m(\u001b[49m\n\u001b[1;32m    381\u001b[0m \u001b[43m        \u001b[49m\u001b[43madd_deep_support\u001b[49m\u001b[43m,\u001b[49m\n\u001b[1;32m    382\u001b[0m \u001b[43m        \u001b[49m\u001b[43mfunc\u001b[49m\u001b[43m,\u001b[49m\n\u001b[1;32m    383\u001b[0m \u001b[43m        \u001b[49m\u001b[43mfunc\u001b[49m\u001b[38;5;241;43m.\u001b[39;49m\u001b[38;5;18;43m__name__\u001b[39;49m\u001b[43m,\u001b[49m\n\u001b[1;32m    384\u001b[0m \u001b[43m        \u001b[49m\u001b[43mcircuit\u001b[49m\u001b[43m,\u001b[49m\n\u001b[1;32m    385\u001b[0m \u001b[43m        \u001b[49m\u001b[43mkwargs\u001b[49m\u001b[38;5;241;43m.\u001b[39;49m\u001b[43mget\u001b[49m\u001b[43m(\u001b[49m\u001b[38;5;124;43m'\u001b[39;49m\u001b[38;5;124;43mcontext\u001b[39;49m\u001b[38;5;124;43m'\u001b[39;49m\u001b[43m,\u001b[49m\u001b[43m \u001b[49m\u001b[43mdefault_context\u001b[49m\u001b[43m)\u001b[49m\u001b[43m,\u001b[49m\n\u001b[1;32m    386\u001b[0m \u001b[43m        \u001b[49m\u001b[38;5;241;43m*\u001b[39;49m\u001b[38;5;241;43m*\u001b[39;49m\u001b[43mkwargs\u001b[49m\u001b[43m,\u001b[49m\n\u001b[1;32m    387\u001b[0m \u001b[43m    \u001b[49m\u001b[43m)\u001b[49m\n",
      "File \u001b[0;32m/opt/.qbraid/environments/qbraid_000000/pyenv/lib/python3.9/site-packages/cirq/transformers/transformer_api.py:439\u001b[0m, in \u001b[0;36m_transform_and_log\u001b[0;34m(add_deep_support, func, transformer_name, circuit, extracted_context, **kwargs)\u001b[0m\n\u001b[1;32m    437\u001b[0m \u001b[38;5;28;01mif\u001b[39;00m extracted_context:\n\u001b[1;32m    438\u001b[0m     extracted_context\u001b[38;5;241m.\u001b[39mlogger\u001b[38;5;241m.\u001b[39mregister_initial(circuit, transformer_name)\n\u001b[0;32m--> 439\u001b[0m transformed_circuit \u001b[38;5;241m=\u001b[39m \u001b[43m_run_transformer_on_circuit\u001b[49m\u001b[43m(\u001b[49m\n\u001b[1;32m    440\u001b[0m \u001b[43m    \u001b[49m\u001b[43madd_deep_support\u001b[49m\u001b[43m,\u001b[49m\u001b[43m \u001b[49m\u001b[43mfunc\u001b[49m\u001b[43m,\u001b[49m\u001b[43m \u001b[49m\u001b[43mcircuit\u001b[49m\u001b[43m,\u001b[49m\u001b[43m \u001b[49m\u001b[43mextracted_context\u001b[49m\u001b[43m,\u001b[49m\u001b[43m \u001b[49m\u001b[38;5;241;43m*\u001b[39;49m\u001b[38;5;241;43m*\u001b[39;49m\u001b[43mkwargs\u001b[49m\n\u001b[1;32m    441\u001b[0m \u001b[43m\u001b[49m\u001b[43m)\u001b[49m\n\u001b[1;32m    442\u001b[0m \u001b[38;5;28;01mif\u001b[39;00m extracted_context:\n\u001b[1;32m    443\u001b[0m     extracted_context\u001b[38;5;241m.\u001b[39mlogger\u001b[38;5;241m.\u001b[39mregister_final(transformed_circuit, transformer_name)\n",
      "File \u001b[0;32m/opt/.qbraid/environments/qbraid_000000/pyenv/lib/python3.9/site-packages/cirq/transformers/transformer_api.py:425\u001b[0m, in \u001b[0;36m_run_transformer_on_circuit\u001b[0;34m(add_deep_support, func, circuit, extracted_context, **kwargs)\u001b[0m\n\u001b[1;32m    423\u001b[0m     mutable_circuit \u001b[38;5;241m=\u001b[39m circuit\u001b[38;5;241m.\u001b[39munfreeze(copy\u001b[38;5;241m=\u001b[39m\u001b[38;5;28;01mTrue\u001b[39;00m)\n\u001b[1;32m    424\u001b[0m     mutable_circuit\u001b[38;5;241m.\u001b[39mbatch_replace(batch_replace)\n\u001b[0;32m--> 425\u001b[0m \u001b[38;5;28;01mreturn\u001b[39;00m \u001b[43mfunc\u001b[49m\u001b[43m(\u001b[49m\u001b[43mmutable_circuit\u001b[49m\u001b[43m \u001b[49m\u001b[38;5;28;43;01mif\u001b[39;49;00m\u001b[43m \u001b[49m\u001b[43mmutable_circuit\u001b[49m\u001b[43m \u001b[49m\u001b[38;5;28;43;01melse\u001b[39;49;00m\u001b[43m \u001b[49m\u001b[43mcircuit\u001b[49m\u001b[43m,\u001b[49m\u001b[43m \u001b[49m\u001b[38;5;241;43m*\u001b[39;49m\u001b[38;5;241;43m*\u001b[39;49m\u001b[43mkwargs\u001b[49m\u001b[43m)\u001b[49m\n",
      "File \u001b[0;32m/opt/.qbraid/environments/qbraid_000000/pyenv/lib/python3.9/site-packages/cirq/transformers/optimize_for_target_gateset.py:131\u001b[0m, in \u001b[0;36moptimize_for_target_gateset\u001b[0;34m(circuit, context, gateset, ignore_failures)\u001b[0m\n\u001b[1;32m    126\u001b[0m     \u001b[38;5;28;01mreturn\u001b[39;00m _decompose_operations_to_target_gateset(\n\u001b[1;32m    127\u001b[0m         circuit, context\u001b[38;5;241m=\u001b[39mcontext, ignore_failures\u001b[38;5;241m=\u001b[39mignore_failures\n\u001b[1;32m    128\u001b[0m     )\n\u001b[1;32m    130\u001b[0m \u001b[38;5;28;01mfor\u001b[39;00m transformer \u001b[38;5;129;01min\u001b[39;00m gateset\u001b[38;5;241m.\u001b[39mpreprocess_transformers:\n\u001b[0;32m--> 131\u001b[0m     circuit \u001b[38;5;241m=\u001b[39m \u001b[43mtransformer\u001b[49m\u001b[43m(\u001b[49m\u001b[43mcircuit\u001b[49m\u001b[43m,\u001b[49m\u001b[43m \u001b[49m\u001b[43mcontext\u001b[49m\u001b[38;5;241;43m=\u001b[39;49m\u001b[43mcontext\u001b[49m\u001b[43m)\u001b[49m\n\u001b[1;32m    133\u001b[0m circuit \u001b[38;5;241m=\u001b[39m _decompose_operations_to_target_gateset(\n\u001b[1;32m    134\u001b[0m     circuit,\n\u001b[1;32m    135\u001b[0m     context\u001b[38;5;241m=\u001b[39mcontext,\n\u001b[0;32m   (...)\u001b[0m\n\u001b[1;32m    139\u001b[0m     tags_to_decompose\u001b[38;5;241m=\u001b[39m(gateset\u001b[38;5;241m.\u001b[39m_intermediate_result_tag,),\n\u001b[1;32m    140\u001b[0m )\n\u001b[1;32m    142\u001b[0m \u001b[38;5;28;01mfor\u001b[39;00m transformer \u001b[38;5;129;01min\u001b[39;00m gateset\u001b[38;5;241m.\u001b[39mpostprocess_transformers:\n",
      "File \u001b[0;32m/opt/.qbraid/environments/qbraid_000000/pyenv/lib/python3.9/site-packages/cirq/transformers/target_gatesets/compilation_target_gateset.py:71\u001b[0m, in \u001b[0;36mcreate_transformer_with_kwargs.<locals>.transformer_with_kwargs\u001b[0;34m(circuit, context)\u001b[0m\n\u001b[1;32m     68\u001b[0m \u001b[38;5;28;01mdef\u001b[39;00m \u001b[38;5;21mtransformer_with_kwargs\u001b[39m(\n\u001b[1;32m     69\u001b[0m     circuit: \u001b[38;5;124m'\u001b[39m\u001b[38;5;124mcirq.AbstractCircuit\u001b[39m\u001b[38;5;124m'\u001b[39m, \u001b[38;5;241m*\u001b[39m, context: Optional[\u001b[38;5;124m'\u001b[39m\u001b[38;5;124mcirq.TransformerContext\u001b[39m\u001b[38;5;124m'\u001b[39m] \u001b[38;5;241m=\u001b[39m \u001b[38;5;28;01mNone\u001b[39;00m\n\u001b[1;32m     70\u001b[0m ) \u001b[38;5;241m-\u001b[39m\u001b[38;5;241m>\u001b[39m \u001b[38;5;124m'\u001b[39m\u001b[38;5;124mcirq.AbstractCircuit\u001b[39m\u001b[38;5;124m'\u001b[39m:\n\u001b[0;32m---> 71\u001b[0m     \u001b[38;5;28;01mreturn\u001b[39;00m \u001b[43mtransformer\u001b[49m\u001b[43m(\u001b[49m\u001b[43mcircuit\u001b[49m\u001b[43m,\u001b[49m\u001b[43m \u001b[49m\u001b[43mcontext\u001b[49m\u001b[38;5;241;43m=\u001b[39;49m\u001b[43mcontext\u001b[49m\u001b[43m,\u001b[49m\u001b[43m \u001b[49m\u001b[38;5;241;43m*\u001b[39;49m\u001b[38;5;241;43m*\u001b[39;49m\u001b[43mkwargs\u001b[49m\u001b[43m)\u001b[49m\n",
      "File \u001b[0;32m/opt/.qbraid/environments/qbraid_000000/pyenv/lib/python3.9/site-packages/cirq/transformers/transformer_api.py:380\u001b[0m, in \u001b[0;36mtransformer.<locals>.func_with_logging\u001b[0;34m(circuit, **kwargs)\u001b[0m\n\u001b[1;32m    378\u001b[0m \u001b[38;5;129m@functools\u001b[39m\u001b[38;5;241m.\u001b[39mwraps(func)\n\u001b[1;32m    379\u001b[0m \u001b[38;5;28;01mdef\u001b[39;00m \u001b[38;5;21mfunc_with_logging\u001b[39m(circuit: \u001b[38;5;124m'\u001b[39m\u001b[38;5;124mcirq.AbstractCircuit\u001b[39m\u001b[38;5;124m'\u001b[39m, \u001b[38;5;241m*\u001b[39m\u001b[38;5;241m*\u001b[39mkwargs) \u001b[38;5;241m-\u001b[39m\u001b[38;5;241m>\u001b[39m \u001b[38;5;124m'\u001b[39m\u001b[38;5;124mcirq.AbstractCircuit\u001b[39m\u001b[38;5;124m'\u001b[39m:\n\u001b[0;32m--> 380\u001b[0m     \u001b[38;5;28;01mreturn\u001b[39;00m \u001b[43m_transform_and_log\u001b[49m\u001b[43m(\u001b[49m\n\u001b[1;32m    381\u001b[0m \u001b[43m        \u001b[49m\u001b[43madd_deep_support\u001b[49m\u001b[43m,\u001b[49m\n\u001b[1;32m    382\u001b[0m \u001b[43m        \u001b[49m\u001b[43mfunc\u001b[49m\u001b[43m,\u001b[49m\n\u001b[1;32m    383\u001b[0m \u001b[43m        \u001b[49m\u001b[43mfunc\u001b[49m\u001b[38;5;241;43m.\u001b[39;49m\u001b[38;5;18;43m__name__\u001b[39;49m\u001b[43m,\u001b[49m\n\u001b[1;32m    384\u001b[0m \u001b[43m        \u001b[49m\u001b[43mcircuit\u001b[49m\u001b[43m,\u001b[49m\n\u001b[1;32m    385\u001b[0m \u001b[43m        \u001b[49m\u001b[43mkwargs\u001b[49m\u001b[38;5;241;43m.\u001b[39;49m\u001b[43mget\u001b[49m\u001b[43m(\u001b[49m\u001b[38;5;124;43m'\u001b[39;49m\u001b[38;5;124;43mcontext\u001b[39;49m\u001b[38;5;124;43m'\u001b[39;49m\u001b[43m,\u001b[49m\u001b[43m \u001b[49m\u001b[43mdefault_context\u001b[49m\u001b[43m)\u001b[49m\u001b[43m,\u001b[49m\n\u001b[1;32m    386\u001b[0m \u001b[43m        \u001b[49m\u001b[38;5;241;43m*\u001b[39;49m\u001b[38;5;241;43m*\u001b[39;49m\u001b[43mkwargs\u001b[49m\u001b[43m,\u001b[49m\n\u001b[1;32m    387\u001b[0m \u001b[43m    \u001b[49m\u001b[43m)\u001b[49m\n",
      "File \u001b[0;32m/opt/.qbraid/environments/qbraid_000000/pyenv/lib/python3.9/site-packages/cirq/transformers/transformer_api.py:439\u001b[0m, in \u001b[0;36m_transform_and_log\u001b[0;34m(add_deep_support, func, transformer_name, circuit, extracted_context, **kwargs)\u001b[0m\n\u001b[1;32m    437\u001b[0m \u001b[38;5;28;01mif\u001b[39;00m extracted_context:\n\u001b[1;32m    438\u001b[0m     extracted_context\u001b[38;5;241m.\u001b[39mlogger\u001b[38;5;241m.\u001b[39mregister_initial(circuit, transformer_name)\n\u001b[0;32m--> 439\u001b[0m transformed_circuit \u001b[38;5;241m=\u001b[39m \u001b[43m_run_transformer_on_circuit\u001b[49m\u001b[43m(\u001b[49m\n\u001b[1;32m    440\u001b[0m \u001b[43m    \u001b[49m\u001b[43madd_deep_support\u001b[49m\u001b[43m,\u001b[49m\u001b[43m \u001b[49m\u001b[43mfunc\u001b[49m\u001b[43m,\u001b[49m\u001b[43m \u001b[49m\u001b[43mcircuit\u001b[49m\u001b[43m,\u001b[49m\u001b[43m \u001b[49m\u001b[43mextracted_context\u001b[49m\u001b[43m,\u001b[49m\u001b[43m \u001b[49m\u001b[38;5;241;43m*\u001b[39;49m\u001b[38;5;241;43m*\u001b[39;49m\u001b[43mkwargs\u001b[49m\n\u001b[1;32m    441\u001b[0m \u001b[43m\u001b[49m\u001b[43m)\u001b[49m\n\u001b[1;32m    442\u001b[0m \u001b[38;5;28;01mif\u001b[39;00m extracted_context:\n\u001b[1;32m    443\u001b[0m     extracted_context\u001b[38;5;241m.\u001b[39mlogger\u001b[38;5;241m.\u001b[39mregister_final(transformed_circuit, transformer_name)\n",
      "File \u001b[0;32m/opt/.qbraid/environments/qbraid_000000/pyenv/lib/python3.9/site-packages/cirq/transformers/transformer_api.py:425\u001b[0m, in \u001b[0;36m_run_transformer_on_circuit\u001b[0;34m(add_deep_support, func, circuit, extracted_context, **kwargs)\u001b[0m\n\u001b[1;32m    423\u001b[0m     mutable_circuit \u001b[38;5;241m=\u001b[39m circuit\u001b[38;5;241m.\u001b[39munfreeze(copy\u001b[38;5;241m=\u001b[39m\u001b[38;5;28;01mTrue\u001b[39;00m)\n\u001b[1;32m    424\u001b[0m     mutable_circuit\u001b[38;5;241m.\u001b[39mbatch_replace(batch_replace)\n\u001b[0;32m--> 425\u001b[0m \u001b[38;5;28;01mreturn\u001b[39;00m \u001b[43mfunc\u001b[49m\u001b[43m(\u001b[49m\u001b[43mmutable_circuit\u001b[49m\u001b[43m \u001b[49m\u001b[38;5;28;43;01mif\u001b[39;49;00m\u001b[43m \u001b[49m\u001b[43mmutable_circuit\u001b[49m\u001b[43m \u001b[49m\u001b[38;5;28;43;01melse\u001b[39;49;00m\u001b[43m \u001b[49m\u001b[43mcircuit\u001b[49m\u001b[43m,\u001b[49m\u001b[43m \u001b[49m\u001b[38;5;241;43m*\u001b[39;49m\u001b[38;5;241;43m*\u001b[39;49m\u001b[43mkwargs\u001b[49m\u001b[43m)\u001b[49m\n",
      "File \u001b[0;32m/opt/.qbraid/environments/qbraid_000000/pyenv/lib/python3.9/site-packages/cirq/transformers/expand_composite.py:56\u001b[0m, in \u001b[0;36mexpand_composite\u001b[0;34m(circuit, context, no_decomp)\u001b[0m\n\u001b[1;32m     53\u001b[0m         \u001b[38;5;28;01mreturn\u001b[39;00m op\n\u001b[1;32m     54\u001b[0m     \u001b[38;5;28;01mreturn\u001b[39;00m protocols\u001b[38;5;241m.\u001b[39mdecompose(op, keep\u001b[38;5;241m=\u001b[39mno_decomp, on_stuck_raise\u001b[38;5;241m=\u001b[39m\u001b[38;5;28;01mNone\u001b[39;00m)\n\u001b[0;32m---> 56\u001b[0m \u001b[38;5;28;01mreturn\u001b[39;00m \u001b[43mtransformer_primitives\u001b[49m\u001b[38;5;241;43m.\u001b[39;49m\u001b[43mmap_operations_and_unroll\u001b[49m\u001b[43m(\u001b[49m\n\u001b[1;32m     57\u001b[0m \u001b[43m    \u001b[49m\u001b[43mcircuit\u001b[49m\u001b[43m,\u001b[49m\n\u001b[1;32m     58\u001b[0m \u001b[43m    \u001b[49m\u001b[43mmap_func\u001b[49m\u001b[43m,\u001b[49m\n\u001b[1;32m     59\u001b[0m \u001b[43m    \u001b[49m\u001b[43mtags_to_ignore\u001b[49m\u001b[38;5;241;43m=\u001b[39;49m\u001b[43mcontext\u001b[49m\u001b[38;5;241;43m.\u001b[39;49m\u001b[43mtags_to_ignore\u001b[49m\u001b[43m \u001b[49m\u001b[38;5;28;43;01mif\u001b[39;49;00m\u001b[43m \u001b[49m\u001b[43mcontext\u001b[49m\u001b[43m \u001b[49m\u001b[38;5;28;43;01melse\u001b[39;49;00m\u001b[43m \u001b[49m\u001b[43m(\u001b[49m\u001b[43m)\u001b[49m\u001b[43m,\u001b[49m\n\u001b[1;32m     60\u001b[0m \u001b[43m    \u001b[49m\u001b[43mdeep\u001b[49m\u001b[38;5;241;43m=\u001b[39;49m\u001b[43mcontext\u001b[49m\u001b[38;5;241;43m.\u001b[39;49m\u001b[43mdeep\u001b[49m\u001b[43m \u001b[49m\u001b[38;5;28;43;01mif\u001b[39;49;00m\u001b[43m \u001b[49m\u001b[43mcontext\u001b[49m\u001b[43m \u001b[49m\u001b[38;5;28;43;01melse\u001b[39;49;00m\u001b[43m \u001b[49m\u001b[38;5;28;43;01mFalse\u001b[39;49;00m\u001b[43m,\u001b[49m\n\u001b[1;32m     61\u001b[0m \u001b[43m\u001b[49m\u001b[43m)\u001b[49m\u001b[38;5;241m.\u001b[39munfreeze(copy\u001b[38;5;241m=\u001b[39m\u001b[38;5;28;01mFalse\u001b[39;00m)\n",
      "File \u001b[0;32m/opt/.qbraid/environments/qbraid_000000/pyenv/lib/python3.9/site-packages/cirq/transformers/transformer_primitives.py:194\u001b[0m, in \u001b[0;36mmap_operations_and_unroll\u001b[0;34m(circuit, map_func, deep, raise_if_add_qubits, tags_to_ignore)\u001b[0m\n\u001b[1;32m    167\u001b[0m \u001b[38;5;28;01mdef\u001b[39;00m \u001b[38;5;21mmap_operations_and_unroll\u001b[39m(\n\u001b[1;32m    168\u001b[0m     circuit: CIRCUIT_TYPE,\n\u001b[1;32m    169\u001b[0m     map_func: Callable[[ops\u001b[38;5;241m.\u001b[39mOperation, \u001b[38;5;28mint\u001b[39m], ops\u001b[38;5;241m.\u001b[39mOP_TREE],\n\u001b[0;32m   (...)\u001b[0m\n\u001b[1;32m    173\u001b[0m     tags_to_ignore: Sequence[Hashable] \u001b[38;5;241m=\u001b[39m (),\n\u001b[1;32m    174\u001b[0m ) \u001b[38;5;241m-\u001b[39m\u001b[38;5;241m>\u001b[39m CIRCUIT_TYPE:\n\u001b[1;32m    175\u001b[0m \u001b[38;5;250m    \u001b[39m\u001b[38;5;124;03m\"\"\"Applies local transformations via `cirq.map_operations` & unrolls intermediate circuit ops.\u001b[39;00m\n\u001b[1;32m    176\u001b[0m \n\u001b[1;32m    177\u001b[0m \u001b[38;5;124;03m    See `cirq.map_operations` and `cirq.unroll_circuit_op` for more details.\u001b[39;00m\n\u001b[0;32m   (...)\u001b[0m\n\u001b[1;32m    191\u001b[0m \u001b[38;5;124;03m        Copy of input circuit with mapped operations, unrolled in a moment preserving way.\u001b[39;00m\n\u001b[1;32m    192\u001b[0m \u001b[38;5;124;03m    \"\"\"\u001b[39;00m\n\u001b[1;32m    193\u001b[0m     \u001b[38;5;28;01mreturn\u001b[39;00m unroll_circuit_op(\n\u001b[0;32m--> 194\u001b[0m         \u001b[43mmap_operations\u001b[49m\u001b[43m(\u001b[49m\n\u001b[1;32m    195\u001b[0m \u001b[43m            \u001b[49m\u001b[43mcircuit\u001b[49m\u001b[43m,\u001b[49m\n\u001b[1;32m    196\u001b[0m \u001b[43m            \u001b[49m\u001b[43mmap_func\u001b[49m\u001b[43m,\u001b[49m\n\u001b[1;32m    197\u001b[0m \u001b[43m            \u001b[49m\u001b[43mdeep\u001b[49m\u001b[38;5;241;43m=\u001b[39;49m\u001b[43mdeep\u001b[49m\u001b[43m,\u001b[49m\n\u001b[1;32m    198\u001b[0m \u001b[43m            \u001b[49m\u001b[43mraise_if_add_qubits\u001b[49m\u001b[38;5;241;43m=\u001b[39;49m\u001b[43mraise_if_add_qubits\u001b[49m\u001b[43m,\u001b[49m\n\u001b[1;32m    199\u001b[0m \u001b[43m            \u001b[49m\u001b[43mtags_to_ignore\u001b[49m\u001b[38;5;241;43m=\u001b[39;49m\u001b[43mtags_to_ignore\u001b[49m\u001b[43m,\u001b[49m\n\u001b[1;32m    200\u001b[0m \u001b[43m        \u001b[49m\u001b[43m)\u001b[49m,\n\u001b[1;32m    201\u001b[0m         deep\u001b[38;5;241m=\u001b[39mdeep,\n\u001b[1;32m    202\u001b[0m     )\n",
      "File \u001b[0;32m/opt/.qbraid/environments/qbraid_000000/pyenv/lib/python3.9/site-packages/cirq/transformers/transformer_primitives.py:159\u001b[0m, in \u001b[0;36mmap_operations\u001b[0;34m(circuit, map_func, deep, raise_if_add_qubits, tags_to_ignore)\u001b[0m\n\u001b[1;32m    156\u001b[0m     circuit_op \u001b[38;5;241m=\u001b[39m circuits\u001b[38;5;241m.\u001b[39mCircuitOperation(c)\u001b[38;5;241m.\u001b[39mwith_tags(MAPPED_CIRCUIT_OP_TAG)\n\u001b[1;32m    157\u001b[0m     \u001b[38;5;28;01mreturn\u001b[39;00m circuit_op\n\u001b[0;32m--> 159\u001b[0m \u001b[38;5;28;01mreturn\u001b[39;00m \u001b[43mmap_moments\u001b[49m\u001b[43m(\u001b[49m\n\u001b[1;32m    160\u001b[0m \u001b[43m    \u001b[49m\u001b[43mcircuit\u001b[49m\u001b[43m,\u001b[49m\n\u001b[1;32m    161\u001b[0m \u001b[43m    \u001b[49m\u001b[38;5;28;43;01mlambda\u001b[39;49;00m\u001b[43m \u001b[49m\u001b[43mm\u001b[49m\u001b[43m,\u001b[49m\u001b[43m \u001b[49m\u001b[43mi\u001b[49m\u001b[43m:\u001b[49m\u001b[43m \u001b[49m\u001b[43m[\u001b[49m\u001b[43mcircuits\u001b[49m\u001b[38;5;241;43m.\u001b[39;49m\u001b[43mMoment\u001b[49m\u001b[43m(\u001b[49m\u001b[43mapply_map\u001b[49m\u001b[43m(\u001b[49m\u001b[43mop\u001b[49m\u001b[43m,\u001b[49m\u001b[43m \u001b[49m\u001b[43mi\u001b[49m\u001b[43m)\u001b[49m\u001b[43m \u001b[49m\u001b[38;5;28;43;01mfor\u001b[39;49;00m\u001b[43m \u001b[49m\u001b[43mop\u001b[49m\u001b[43m \u001b[49m\u001b[38;5;129;43;01min\u001b[39;49;00m\u001b[43m \u001b[49m\u001b[43mm\u001b[49m\u001b[38;5;241;43m.\u001b[39;49m\u001b[43moperations\u001b[49m\u001b[43m)\u001b[49m\u001b[43m]\u001b[49m\u001b[43m,\u001b[49m\n\u001b[1;32m    162\u001b[0m \u001b[43m    \u001b[49m\u001b[43mdeep\u001b[49m\u001b[38;5;241;43m=\u001b[39;49m\u001b[43mdeep\u001b[49m\u001b[43m,\u001b[49m\n\u001b[1;32m    163\u001b[0m \u001b[43m    \u001b[49m\u001b[43mtags_to_ignore\u001b[49m\u001b[38;5;241;43m=\u001b[39;49m\u001b[43mtags_to_ignore\u001b[49m\u001b[43m,\u001b[49m\n\u001b[1;32m    164\u001b[0m \u001b[43m\u001b[49m\u001b[43m)\u001b[49m\n",
      "File \u001b[0;32m/opt/.qbraid/environments/qbraid_000000/pyenv/lib/python3.9/site-packages/cirq/transformers/transformer_primitives.py:85\u001b[0m, in \u001b[0;36mmap_moments\u001b[0;34m(circuit, map_func, tags_to_ignore, deep)\u001b[0m\n\u001b[1;32m     64\u001b[0m \u001b[38;5;28;01mdef\u001b[39;00m \u001b[38;5;21mmap_moments\u001b[39m(\n\u001b[1;32m     65\u001b[0m     circuit: CIRCUIT_TYPE,\n\u001b[1;32m     66\u001b[0m     map_func: Callable[[circuits\u001b[38;5;241m.\u001b[39mMoment, \u001b[38;5;28mint\u001b[39m], Union[circuits\u001b[38;5;241m.\u001b[39mMoment, Sequence[circuits\u001b[38;5;241m.\u001b[39mMoment]]],\n\u001b[0;32m   (...)\u001b[0m\n\u001b[1;32m     69\u001b[0m     deep: \u001b[38;5;28mbool\u001b[39m \u001b[38;5;241m=\u001b[39m \u001b[38;5;28;01mFalse\u001b[39;00m,\n\u001b[1;32m     70\u001b[0m ) \u001b[38;5;241m-\u001b[39m\u001b[38;5;241m>\u001b[39m CIRCUIT_TYPE:\n\u001b[1;32m     71\u001b[0m \u001b[38;5;250m    \u001b[39m\u001b[38;5;124;03m\"\"\"Applies local transformation on moments, by calling `map_func(moment)` for each moment.\u001b[39;00m\n\u001b[1;32m     72\u001b[0m \n\u001b[1;32m     73\u001b[0m \u001b[38;5;124;03m    Args:\u001b[39;00m\n\u001b[0;32m   (...)\u001b[0m\n\u001b[1;32m     83\u001b[0m \u001b[38;5;124;03m        Copy of input circuit with mapped moments.\u001b[39;00m\n\u001b[1;32m     84\u001b[0m \u001b[38;5;124;03m    \"\"\"\u001b[39;00m\n\u001b[0;32m---> 85\u001b[0m     mutable_circuit \u001b[38;5;241m=\u001b[39m \u001b[43mcircuit\u001b[49m\u001b[38;5;241;43m.\u001b[39;49m\u001b[43munfreeze\u001b[49m(copy\u001b[38;5;241m=\u001b[39m\u001b[38;5;28;01mFalse\u001b[39;00m)\n\u001b[1;32m     86\u001b[0m     \u001b[38;5;28;01mif\u001b[39;00m deep:\n\u001b[1;32m     87\u001b[0m         batch_replace \u001b[38;5;241m=\u001b[39m []\n",
      "\u001b[0;31mAttributeError\u001b[0m: 'generator' object has no attribute 'unfreeze'"
     ]
    }
   ],
   "source": [
    "qc = cirq.optimize_for_target_gateset(circuit, gateset=cirq_ionq.ionq_gateset.IonQTargetGateset())"
   ]
  },
  {
   "cell_type": "code",
   "execution_count": 57,
   "id": "ec55ac01-097a-4c45-8fed-ea601f079225",
   "metadata": {},
   "outputs": [
    {
     "ename": "NameError",
     "evalue": "name 'qc' is not defined",
     "output_type": "error",
     "traceback": [
      "\u001b[0;31m---------------------------------------------------------------------------\u001b[0m",
      "\u001b[0;31mNameError\u001b[0m                                 Traceback (most recent call last)",
      "Cell \u001b[0;32mIn[57], line 1\u001b[0m\n\u001b[0;32m----> 1\u001b[0m \u001b[38;5;28mtype\u001b[39m(\u001b[43mqc\u001b[49m)\n",
      "\u001b[0;31mNameError\u001b[0m: name 'qc' is not defined"
     ]
    }
   ],
   "source": [
    "type(qc)"
   ]
  },
  {
   "cell_type": "code",
   "execution_count": 58,
   "id": "bdc2d339-bdfe-4996-8288-bd817f052560",
   "metadata": {},
   "outputs": [
    {
     "ename": "NameError",
     "evalue": "name 'qc' is not defined",
     "output_type": "error",
     "traceback": [
      "\u001b[0;31m---------------------------------------------------------------------------\u001b[0m",
      "\u001b[0;31mNameError\u001b[0m                                 Traceback (most recent call last)",
      "Cell \u001b[0;32mIn[58], line 1\u001b[0m\n\u001b[0;32m----> 1\u001b[0m \u001b[38;5;28mlen\u001b[39m(\u001b[43mqc\u001b[49m)\n",
      "\u001b[0;31mNameError\u001b[0m: name 'qc' is not defined"
     ]
    }
   ],
   "source": [
    "len(qc)"
   ]
  },
  {
   "cell_type": "code",
   "execution_count": 59,
   "id": "87e30fae-ef39-4f35-8f3b-8631a8f1350a",
   "metadata": {},
   "outputs": [],
   "source": [
    "from itertools import combinations"
   ]
  },
  {
   "cell_type": "code",
   "execution_count": 60,
   "id": "fbd7c9d5-755c-40cf-a405-d4f0cae8577a",
   "metadata": {},
   "outputs": [
    {
     "data": {
      "text/plain": [
       "[('a', 'b'), ('a', 'c'), ('a', 'd'), ('b', 'c'), ('b', 'd'), ('c', 'd')]"
      ]
     },
     "execution_count": 60,
     "metadata": {},
     "output_type": "execute_result"
    }
   ],
   "source": [
    "list(combinations(['a', 'b', 'c', 'd'], 2))"
   ]
  },
  {
   "cell_type": "code",
   "execution_count": 61,
   "id": "5626ad0b-1498-46ca-a835-902974649ecf",
   "metadata": {},
   "outputs": [
    {
     "name": "stdout",
     "output_type": "stream",
     "text": [
      "0\n",
      "1\n",
      "2\n",
      "3\n"
     ]
    }
   ],
   "source": [
    "for qubit in qubits:\n",
    "    print(qubit)\n"
   ]
  },
  {
   "cell_type": "code",
   "execution_count": 62,
   "id": "76850620-da8d-42c6-8474-23887a864f26",
   "metadata": {},
   "outputs": [
    {
     "data": {
      "text/plain": [
       "[cirq.NamedQubit('0'),\n",
       " cirq.NamedQubit('1'),\n",
       " cirq.NamedQubit('2'),\n",
       " cirq.NamedQubit('3')]"
      ]
     },
     "execution_count": 62,
     "metadata": {},
     "output_type": "execute_result"
    }
   ],
   "source": [
    "qubits"
   ]
  },
  {
   "cell_type": "code",
   "execution_count": 63,
   "id": "738d50a2-7d6e-480b-9bc8-c7a37314de7c",
   "metadata": {},
   "outputs": [
    {
     "ename": "NameError",
     "evalue": "name 'qc' is not defined",
     "output_type": "error",
     "traceback": [
      "\u001b[0;31m---------------------------------------------------------------------------\u001b[0m",
      "\u001b[0;31mNameError\u001b[0m                                 Traceback (most recent call last)",
      "Cell \u001b[0;32mIn[63], line 1\u001b[0m\n\u001b[0;32m----> 1\u001b[0m circuit \u001b[38;5;241m=\u001b[39m \u001b[43mqc\u001b[49m\n",
      "\u001b[0;31mNameError\u001b[0m: name 'qc' is not defined"
     ]
    }
   ],
   "source": [
    "circuit = qc"
   ]
  },
  {
   "cell_type": "code",
   "execution_count": 92,
   "id": "628c27d1-3437-427f-b4f9-18100eaeec86",
   "metadata": {},
   "outputs": [],
   "source": [
    "def build_monster_grover(exponents, nDiffuse, measure):\n",
    "    qubits = [cirq.NamedQubit(str(ii)) for ii in range(5)]\n",
    "    circuit = cirq.Circuit()\n",
    "\n",
    "    # apply H-gates \n",
    "    circuit.append([cirq.H(qubit) for qubit in qubits])\n",
    "\n",
    "    circuit.append(cirq.CZPowGate(exponent = exponents[0])(qubits[0], qubits[1]))\n",
    "    # circuit.append(cirq.ZPowGate(exponent = exponents[])(qubits[1]))\n",
    "    circuit.append(cirq.CZPowGate(exponent = exponents[1])(qubits[0], qubits[2]))\n",
    "    circuit.append(cirq.CZPowGate(exponent = exponents[2])(qubits[0], qubits[3]))\n",
    "    circuit.append(cirq.CZPowGate(exponent = exponents[3])(qubits[0], qubits[4]))\n",
    "    # circuit.append(cirq.ZPowGate(exponent = exponents[])(qubits[3]))\n",
    "    circuit.append(cirq.CZPowGate(exponent = exponents[4])(qubits[1], qubits[2]))\n",
    "    circuit.append(cirq.CZPowGate(exponent = exponents[5])(qubits[1], qubits[3]))\n",
    "    circuit.append(cirq.CZPowGate(exponent = exponents[6])(qubits[1], qubits[4]))\n",
    "    circuit.append(cirq.CZPowGate(exponent = exponents[7])(qubits[2], qubits[3]))\n",
    "    circuit.append(cirq.CZPowGate(exponent = exponents[8])(qubits[2], qubits[4]))\n",
    "    circuit.append(cirq.CZPowGate(exponent = exponents[9])(qubits[3], qubits[4]))\n",
    "\n",
    "    circuit.append([cirq.X(qubit) for qubit in qubits])\n",
    "    \n",
    "    circuit.append(cirq.CZPowGate(exponent = exponents[10])(qubits[0], qubits[1]))\n",
    "    # circuit.append(cirq.ZPowGate(exponent = exponents[])(qubits[1]))\n",
    "    circuit.append(cirq.CZPowGate(exponent = exponents[11])(qubits[0], qubits[2]))\n",
    "    circuit.append(cirq.CZPowGate(exponent = exponents[12])(qubits[0], qubits[3]))\n",
    "    circuit.append(cirq.CZPowGate(exponent = exponents[13])(qubits[0], qubits[4]))\n",
    "    # circuit.append(cirq.ZPowGate(exponent = exponents[])(qubits[3]))\n",
    "    circuit.append(cirq.CZPowGate(exponent = exponents[14])(qubits[1], qubits[2]))\n",
    "    circuit.append(cirq.CZPowGate(exponent = exponents[15])(qubits[1], qubits[3]))\n",
    "    circuit.append(cirq.CZPowGate(exponent = exponents[16])(qubits[1], qubits[4]))\n",
    "    circuit.append(cirq.CZPowGate(exponent = exponents[17])(qubits[2], qubits[3]))\n",
    "    circuit.append(cirq.CZPowGate(exponent = exponents[18])(qubits[2], qubits[4]))\n",
    "    circuit.append(cirq.CZPowGate(exponent = exponents[19])(qubits[3], qubits[4]))\n",
    "    \n",
    "    diffuse(circuit, nDiffuse)\n",
    "    \n",
    "    if measure:\n",
    "        circuit.append(cirq.measure(*qubits, key = 'r1'))\n",
    "    \n",
    "    return circuit"
   ]
  },
  {
   "cell_type": "code",
   "execution_count": 112,
   "id": "5748ec4b-affe-4e0a-bb9d-60b00f4313c6",
   "metadata": {},
   "outputs": [
    {
     "name": "stdout",
     "output_type": "stream",
     "text": [
      "[9.9 7.7 2.4 2.7 4.1 7.4 0.6 0.6 1.  0.1 7.6 0.5 0.  6.2 0.5 3.6 9.1 3.\n",
      " 0.8 0.1 3.8 0.8 0.4 8.7 2.  0.9 3.4 1.3 0.7 8.  1.6 0.5]\n"
     ]
    },
    {
     "data": {
      "image/png": "[encoded data removed]",
      "text/plain": [
       "<Figure size 432x288 with 1 Axes>"
      ]
     },
     "metadata": {
      "needs_background": "light"
     },
     "output_type": "display_data"
    }
   ],
   "source": [
    "numExponents = 20\n",
    "numRepititions = 1000\n",
    "exponents = [random.random() for _ in range(numExponents)]\n",
    "nDiffuse = 1\n",
    "\n",
    "# initial circuit\n",
    "circuit = build_monster_grover(exponents, nDiffuse, measure=True)\n",
    "s = cirq.Simulator()\n",
    "samples = s.run(circuit, repetitions = numRepititions)\n",
    "cirq.plot_state_histogram(samples, plt.subplot())\n",
    "\n",
    "counts = cirq.get_state_histogram(samples)\n",
    "percentages = counts/numRepititions * 100\n",
    "print(percentages)\n",
    "# list(cirq.get_state_histogram(samples))\n",
    "prev_prob_sum = percentages[0]+percentages[1]+percentages[2]+percentages[3]"
   ]
  },
  {
   "cell_type": "code",
   "execution_count": 113,
   "id": "23d38c01-2132-462a-9b22-17840aa440b5",
   "metadata": {},
   "outputs": [],
   "source": [
    "# print(circuit)\n",
    "# s = cirq.Simulator()\n",
    "# samples = s.run(circuit, repetitions = 1000)\n",
    "# #samples[0]\n",
    "# cirq.plot_state_histogram(samples, plt.subplot())"
   ]
  },
  {
   "cell_type": "code",
   "execution_count": 114,
   "id": "46d16c49-1c37-47ea-abe5-7658d37b76f8",
   "metadata": {},
   "outputs": [],
   "source": [
    "# account for the number \n",
    "threshold = 60 # accept percentage\n",
    "numIts = 2000\n",
    "random_sample = [0,1,2,3]\n",
    "# print(sum(percentages[0:3]))"
   ]
  },
  {
   "cell_type": "code",
   "execution_count": 115,
   "id": "bd64e7a8-d7d6-4f10-8668-78214515878b",
   "metadata": {},
   "outputs": [],
   "source": [
    "# update exponents by a small step randomly\n",
    "updates = [random.random()/10 - 0.05 for _ in range(len(exponents))]\n",
    "\n",
    "circuit = build_monster_grover([exponents[ii] + updates[ii] \n",
    "                                    for ii in range(numExponents)], nDiffuse, measure=True)\n",
    "s = cirq.Simulator()\n",
    "samples = s.run(circuit, repetitions = numRepititions)\n",
    "\n",
    "# get the numbers in the range of the samples\n",
    "list(cirq.get_state_histogram(samples))\n",
    "\n",
    "prob_sum = percentages[0]+percentages[1]+percentages[2]+percentages[3]"
   ]
  },
  {
   "cell_type": "code",
   "execution_count": 116,
   "id": "5cfdf2de-067d-4f0e-8994-f538f29a76d8",
   "metadata": {},
   "outputs": [
    {
     "name": "stdout",
     "output_type": "stream",
     "text": [
      "22.7\n",
      "23.699999999999996\n",
      "24.199999999999996\n",
      "24.900000000000002\n",
      "25.599999999999998\n",
      "26.7\n",
      "28.2\n",
      "30.200000000000003\n",
      "30.5\n",
      "30.7\n",
      "31.6\n",
      "34.2\n",
      "34.4\n",
      "37.300000000000004\n",
      "DONE\n"
     ]
    }
   ],
   "source": [
    "for i in range(numIts):\n",
    "    \n",
    "    if(prob_sum >= prev_prob_sum):\n",
    "        # accept the change and run again\n",
    "        print(prob_sum)\n",
    "        prev_prob_sum = prob_sum\n",
    "        exponents = [exponents[ii] + updates[ii] for ii in range(numExponents)]   \n",
    "    #else:\n",
    "        # do not accept the change and run again\n",
    "        \n",
    "    # update exponents by a small step randomly\n",
    "    updates = [random.random()/10 - 0.05 for _ in range(len(exponents))]\n",
    "\n",
    "    circuit = build_monster_grover([exponents[ii] + updates[ii] \n",
    "                                    for ii in range(numExponents)], nDiffuse, measure=True)\n",
    "    s = cirq.Simulator()\n",
    "    samples = s.run(circuit, repetitions = numRepititions)\n",
    "    \n",
    "    # get the numbers in the range of the samples\n",
    "    # list(cirq.get_state_histogram(samples))\n",
    "    counts = cirq.get_state_histogram(samples)\n",
    "    percentages = counts/numRepititions * 100\n",
    "    \n",
    "    \n",
    "    prob_sum = percentages[0]+percentages[1]+percentages[2]+percentages[3]\n",
    "    \n",
    "print(\"DONE\")"
   ]
  },
  {
   "cell_type": "code",
   "execution_count": 77,
   "id": "f79b860b-5fda-4811-8bd2-9de2c5a56a24",
   "metadata": {},
   "outputs": [
    {
     "name": "stdout",
     "output_type": "stream",
     "text": [
      "[0.8816670046591459, 0.5135552127532861, 0.5059533551572979, 0.8372675370376563, 0.3603414304954369, 0.1361285874605961, 1.2535975309884297, 0.9036712596546355, 0.6098573252262531, 0.4432435327565677, 0.9467375101521117, 0.08139994952217271]\n"
     ]
    }
   ],
   "source": [
    "print(exponents)"
   ]
  },
  {
   "cell_type": "code",
   "execution_count": 117,
   "id": "3c668c10-dec1-438e-884c-1d0075c7dcf9",
   "metadata": {},
   "outputs": [
    {
     "data": {
      "text/plain": [
       "<AxesSubplot: title={'center': 'Result State Histogram'}, xlabel='qubit state', ylabel='result count'>"
      ]
     },
     "execution_count": 117,
     "metadata": {},
     "output_type": "execute_result"
    },
    {
     "data": {
      "image/png": "[encoded data removed]",
      "text/plain": [
       "<Figure size 432x288 with 1 Axes>"
      ]
     },
     "metadata": {
      "needs_background": "light"
     },
     "output_type": "display_data"
    }
   ],
   "source": [
    "circuit = build_monster_grover(exponents, nDiffuse, measure=True)\n",
    "s = cirq.Simulator()\n",
    "samples = s.run(circuit, repetitions = numRepititions)\n",
    "\n",
    "# get the numbers in the range of the samples\n",
    "list(cirq.get_state_histogram(samples))\n",
    "cirq.plot_state_histogram(samples, plt.subplot())"
   ]
  },
  {
   "cell_type": "code",
   "execution_count": 26,
   "id": "e80a343b-3e0a-4799-b730-2b235043bac1",
   "metadata": {},
   "outputs": [
    {
     "data": {
      "text/plain": [
       "['a', 'b', 'c']"
      ]
     },
     "execution_count": 26,
     "metadata": {},
     "output_type": "execute_result"
    }
   ],
   "source": [
    "# ['a','b','c','d'][0:3]"
   ]
  },
  {
   "cell_type": "code",
   "execution_count": null,
   "id": "d962ca29-fd75-4094-af44-acaeff57642b",
   "metadata": {},
   "outputs": [],
   "source": []
  }
 ],
 "metadata": {
  "kernelspec": {
   "display_name": "Python 3 [Default]",
   "language": "python",
   "name": "python3"
  },
  "language_info": {
   "codemirror_mode": {
    "name": "ipython",
    "version": 3
   },
   "file_extension": ".py",
   "mimetype": "text/x-python",
   "name": "python",
   "nbconvert_exporter": "python",
   "pygments_lexer": "ipython3",
   "version": "3.9.10"
  }
 },
 "nbformat": 4,
 "nbformat_minor": 5
}
